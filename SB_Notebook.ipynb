{
 "cells": [
  {
   "cell_type": "markdown",
   "metadata": {},
   "source": [
    "# Мастерская данных 1. Моделирование выживаемости стартапов\n",
    "\n",
    "На основе псевдо-реальных данных о стартапах, функционировавших в период с 1970 по 2018 годы,  необходимо предсказать, какие из них закроются."
   ]
  },
  {
   "cell_type": "markdown",
   "metadata": {},
   "source": [
    "## Установка и импорт библиотек"
   ]
  },
  {
   "cell_type": "code",
   "execution_count": 1,
   "metadata": {
    "execution": {
     "iopub.execute_input": "2024-07-14T16:00:36.468018Z",
     "iopub.status.busy": "2024-07-14T16:00:36.467763Z",
     "iopub.status.idle": "2024-07-14T16:00:47.073759Z",
     "shell.execute_reply": "2024-07-14T16:00:47.073061Z",
     "shell.execute_reply.started": "2024-07-14T16:00:36.468000Z"
    },
    "tags": []
   },
   "outputs": [],
   "source": [
    "# Установим необходимые сторонние библиотеки\n",
    "! pip install phik -q\n",
    "! pip install catboost -q"
   ]
  },
  {
   "cell_type": "code",
   "execution_count": 2,
   "metadata": {
    "_cell_guid": "b1076dfc-b9ad-4769-8c92-a6c4dae69d19",
    "_uuid": "8f2839f25d086af736a60e9eeb907d3b93b6e0e5",
    "execution": {
     "iopub.execute_input": "2024-07-14T16:00:47.075006Z",
     "iopub.status.busy": "2024-07-14T16:00:47.074715Z",
     "iopub.status.idle": "2024-07-14T16:00:51.856634Z",
     "shell.execute_reply": "2024-07-14T16:00:51.855534Z",
     "shell.execute_reply.started": "2024-07-14T16:00:47.074988Z"
    },
    "tags": []
   },
   "outputs": [],
   "source": [
    "# Импортируем необходимые библиотеки\n",
    "import pandas as pd\n",
    "import numpy as np\n",
    "\n",
    "from sklearn.model_selection import train_test_split, GridSearchCV,StratifiedKFold,RandomizedSearchCV\n",
    "from sklearn.metrics import f1_score\n",
    "from sklearn.pipeline import Pipeline\n",
    "from sklearn.compose import ColumnTransformer\n",
    "from sklearn.impute import SimpleImputer\n",
    "from sklearn.preprocessing import StandardScaler, MinMaxScaler, OneHotEncoder, OrdinalEncoder, LabelEncoder\n",
    "\n",
    "# Импортируем небходимые модели\n",
    "from sklearn.linear_model import LogisticRegression\n",
    "from sklearn.svm import SVC\n",
    "from sklearn.neighbors import KNeighborsClassifier\n",
    "from sklearn.tree import DecisionTreeClassifier\n",
    "\n",
    "import matplotlib.pyplot as plt\n",
    "import seaborn as sns\n",
    "\n",
    "# Импортируем сторонние библиотеки\n",
    "import phik\n",
    "from catboost import CatBoostClassifier"
   ]
  },
  {
   "cell_type": "markdown",
   "metadata": {},
   "source": [
    "## Импорт и предобработка данных"
   ]
  },
  {
   "cell_type": "code",
   "execution_count": 3,
   "metadata": {
    "execution": {
     "iopub.execute_input": "2024-07-14T16:00:51.861144Z",
     "iopub.status.busy": "2024-07-14T16:00:51.860354Z",
     "iopub.status.idle": "2024-07-14T16:00:52.312592Z",
     "shell.execute_reply": "2024-07-14T16:00:52.311965Z",
     "shell.execute_reply.started": "2024-07-14T16:00:51.861118Z"
    },
    "tags": []
   },
   "outputs": [],
   "source": [
    "train_dataset = pd.read_csv('kaggle_startups_train_28062024.csv')\n",
    "test_dataset = pd.read_csv('kaggle_startups_test_28062024.csv')"
   ]
  },
  {
   "cell_type": "code",
   "execution_count": 4,
   "metadata": {
    "execution": {
     "iopub.execute_input": "2024-07-14T16:00:52.313879Z",
     "iopub.status.busy": "2024-07-14T16:00:52.313511Z",
     "iopub.status.idle": "2024-07-14T16:00:52.393018Z",
     "shell.execute_reply": "2024-07-14T16:00:52.392239Z",
     "shell.execute_reply.started": "2024-07-14T16:00:52.313852Z"
    },
    "tags": []
   },
   "outputs": [
    {
     "data": {
      "text/html": [
       "<div>\n",
       "<style scoped>\n",
       "    .dataframe tbody tr th:only-of-type {\n",
       "        vertical-align: middle;\n",
       "    }\n",
       "\n",
       "    .dataframe tbody tr th {\n",
       "        vertical-align: top;\n",
       "    }\n",
       "\n",
       "    .dataframe thead th {\n",
       "        text-align: right;\n",
       "    }\n",
       "</style>\n",
       "<table border=\"1\" class=\"dataframe\">\n",
       "  <thead>\n",
       "    <tr style=\"text-align: right;\">\n",
       "      <th></th>\n",
       "      <th>name</th>\n",
       "      <th>category_list</th>\n",
       "      <th>funding_total_usd</th>\n",
       "      <th>status</th>\n",
       "      <th>country_code</th>\n",
       "      <th>state_code</th>\n",
       "      <th>region</th>\n",
       "      <th>city</th>\n",
       "      <th>funding_rounds</th>\n",
       "      <th>founded_at</th>\n",
       "      <th>first_funding_at</th>\n",
       "      <th>last_funding_at</th>\n",
       "      <th>closed_at</th>\n",
       "    </tr>\n",
       "  </thead>\n",
       "  <tbody>\n",
       "    <tr>\n",
       "      <th>0</th>\n",
       "      <td>Lunchgate</td>\n",
       "      <td>Online Reservations|Restaurants</td>\n",
       "      <td>828626.0</td>\n",
       "      <td>operating</td>\n",
       "      <td>CHE</td>\n",
       "      <td>25</td>\n",
       "      <td>Zurich</td>\n",
       "      <td>Zürich</td>\n",
       "      <td>2</td>\n",
       "      <td>2009-10-17</td>\n",
       "      <td>2011-05-01</td>\n",
       "      <td>2014-12-01</td>\n",
       "      <td>NaN</td>\n",
       "    </tr>\n",
       "    <tr>\n",
       "      <th>1</th>\n",
       "      <td>EarLens</td>\n",
       "      <td>Manufacturing|Medical|Medical Devices</td>\n",
       "      <td>42935019.0</td>\n",
       "      <td>operating</td>\n",
       "      <td>USA</td>\n",
       "      <td>CA</td>\n",
       "      <td>SF Bay Area</td>\n",
       "      <td>Redwood City</td>\n",
       "      <td>4</td>\n",
       "      <td>2005-01-01</td>\n",
       "      <td>2010-05-04</td>\n",
       "      <td>2014-02-25</td>\n",
       "      <td>NaN</td>\n",
       "    </tr>\n",
       "    <tr>\n",
       "      <th>2</th>\n",
       "      <td>Reviva Pharmaceuticals</td>\n",
       "      <td>Biotechnology</td>\n",
       "      <td>35456381.0</td>\n",
       "      <td>operating</td>\n",
       "      <td>USA</td>\n",
       "      <td>CA</td>\n",
       "      <td>SF Bay Area</td>\n",
       "      <td>San Jose</td>\n",
       "      <td>3</td>\n",
       "      <td>2006-01-01</td>\n",
       "      <td>2012-08-20</td>\n",
       "      <td>2014-07-02</td>\n",
       "      <td>NaN</td>\n",
       "    </tr>\n",
       "    <tr>\n",
       "      <th>3</th>\n",
       "      <td>Sancilio and Company</td>\n",
       "      <td>Health Care</td>\n",
       "      <td>22250000.0</td>\n",
       "      <td>operating</td>\n",
       "      <td>NaN</td>\n",
       "      <td>NaN</td>\n",
       "      <td>NaN</td>\n",
       "      <td>NaN</td>\n",
       "      <td>3</td>\n",
       "      <td>2004-01-01</td>\n",
       "      <td>2011-09-01</td>\n",
       "      <td>2014-07-18</td>\n",
       "      <td>NaN</td>\n",
       "    </tr>\n",
       "    <tr>\n",
       "      <th>4</th>\n",
       "      <td>WireTough Cylinders</td>\n",
       "      <td>Manufacturing</td>\n",
       "      <td>NaN</td>\n",
       "      <td>operating</td>\n",
       "      <td>USA</td>\n",
       "      <td>VA</td>\n",
       "      <td>VA - Other</td>\n",
       "      <td>Bristol</td>\n",
       "      <td>1</td>\n",
       "      <td>2010-05-12</td>\n",
       "      <td>2012-02-01</td>\n",
       "      <td>2012-02-01</td>\n",
       "      <td>NaN</td>\n",
       "    </tr>\n",
       "  </tbody>\n",
       "</table>\n",
       "</div>"
      ],
      "text/plain": [
       "                     name                          category_list  \\\n",
       "0               Lunchgate        Online Reservations|Restaurants   \n",
       "1                 EarLens  Manufacturing|Medical|Medical Devices   \n",
       "2  Reviva Pharmaceuticals                          Biotechnology   \n",
       "3    Sancilio and Company                            Health Care   \n",
       "4     WireTough Cylinders                          Manufacturing   \n",
       "\n",
       "   funding_total_usd     status country_code state_code       region  \\\n",
       "0           828626.0  operating          CHE         25       Zurich   \n",
       "1         42935019.0  operating          USA         CA  SF Bay Area   \n",
       "2         35456381.0  operating          USA         CA  SF Bay Area   \n",
       "3         22250000.0  operating          NaN        NaN          NaN   \n",
       "4                NaN  operating          USA         VA   VA - Other   \n",
       "\n",
       "           city  funding_rounds  founded_at first_funding_at last_funding_at  \\\n",
       "0        Zürich               2  2009-10-17       2011-05-01      2014-12-01   \n",
       "1  Redwood City               4  2005-01-01       2010-05-04      2014-02-25   \n",
       "2      San Jose               3  2006-01-01       2012-08-20      2014-07-02   \n",
       "3           NaN               3  2004-01-01       2011-09-01      2014-07-18   \n",
       "4       Bristol               1  2010-05-12       2012-02-01      2012-02-01   \n",
       "\n",
       "  closed_at  \n",
       "0       NaN  \n",
       "1       NaN  \n",
       "2       NaN  \n",
       "3       NaN  \n",
       "4       NaN  "
      ]
     },
     "metadata": {},
     "output_type": "display_data"
    },
    {
     "name": "stdout",
     "output_type": "stream",
     "text": [
      "<class 'pandas.core.frame.DataFrame'>\n",
      "RangeIndex: 52516 entries, 0 to 52515\n",
      "Data columns (total 13 columns):\n",
      " #   Column             Non-Null Count  Dtype  \n",
      "---  ------             --------------  -----  \n",
      " 0   name               52515 non-null  object \n",
      " 1   category_list      50051 non-null  object \n",
      " 2   funding_total_usd  42447 non-null  float64\n",
      " 3   status             52516 non-null  object \n",
      " 4   country_code       47014 non-null  object \n",
      " 5   state_code         45753 non-null  object \n",
      " 6   region             46157 non-null  object \n",
      " 7   city               46157 non-null  object \n",
      " 8   funding_rounds     52516 non-null  int64  \n",
      " 9   founded_at         52516 non-null  object \n",
      " 10  first_funding_at   52516 non-null  object \n",
      " 11  last_funding_at    52516 non-null  object \n",
      " 12  closed_at          4917 non-null   object \n",
      "dtypes: float64(1), int64(1), object(11)\n",
      "memory usage: 5.2+ MB\n"
     ]
    }
   ],
   "source": [
    "# Взглянем на загруженные данные\n",
    "display(train_dataset.head())\n",
    "train_dataset.info()"
   ]
  },
  {
   "cell_type": "code",
   "execution_count": 5,
   "metadata": {
    "execution": {
     "iopub.execute_input": "2024-07-14T16:00:52.394158Z",
     "iopub.status.busy": "2024-07-14T16:00:52.393946Z",
     "iopub.status.idle": "2024-07-14T16:00:53.171852Z",
     "shell.execute_reply": "2024-07-14T16:00:53.171050Z",
     "shell.execute_reply.started": "2024-07-14T16:00:52.394141Z"
    },
    "tags": []
   },
   "outputs": [
    {
     "data": {
      "text/html": [
       "<div>\n",
       "<style scoped>\n",
       "    .dataframe tbody tr th:only-of-type {\n",
       "        vertical-align: middle;\n",
       "    }\n",
       "\n",
       "    .dataframe tbody tr th {\n",
       "        vertical-align: top;\n",
       "    }\n",
       "\n",
       "    .dataframe thead th {\n",
       "        text-align: right;\n",
       "    }\n",
       "</style>\n",
       "<table border=\"1\" class=\"dataframe\">\n",
       "  <thead>\n",
       "    <tr style=\"text-align: right;\">\n",
       "      <th></th>\n",
       "      <th>name</th>\n",
       "      <th>category_list</th>\n",
       "      <th>funding_total_usd</th>\n",
       "      <th>country_code</th>\n",
       "      <th>state_code</th>\n",
       "      <th>region</th>\n",
       "      <th>city</th>\n",
       "      <th>funding_rounds</th>\n",
       "      <th>first_funding_at</th>\n",
       "      <th>last_funding_at</th>\n",
       "      <th>lifetime</th>\n",
       "    </tr>\n",
       "  </thead>\n",
       "  <tbody>\n",
       "    <tr>\n",
       "      <th>0</th>\n",
       "      <td>Crystalsol</td>\n",
       "      <td>Clean Technology</td>\n",
       "      <td>2819200.0</td>\n",
       "      <td>NIC</td>\n",
       "      <td>17</td>\n",
       "      <td>NaN</td>\n",
       "      <td>NaN</td>\n",
       "      <td>1</td>\n",
       "      <td>2009-07-01</td>\n",
       "      <td>2009-07-01</td>\n",
       "      <td>3501</td>\n",
       "    </tr>\n",
       "    <tr>\n",
       "      <th>1</th>\n",
       "      <td>JBI Fish &amp; Wings</td>\n",
       "      <td>Hospitality</td>\n",
       "      <td>NaN</td>\n",
       "      <td>USA</td>\n",
       "      <td>TN</td>\n",
       "      <td>TN - Other</td>\n",
       "      <td>Humboldt</td>\n",
       "      <td>1</td>\n",
       "      <td>2010-07-28</td>\n",
       "      <td>2010-07-28</td>\n",
       "      <td>2717</td>\n",
       "    </tr>\n",
       "    <tr>\n",
       "      <th>2</th>\n",
       "      <td>COINPLUS</td>\n",
       "      <td>Finance</td>\n",
       "      <td>428257.0</td>\n",
       "      <td>LUX</td>\n",
       "      <td>3</td>\n",
       "      <td>Esch-sur-alzette</td>\n",
       "      <td>Esch-sur-alzette</td>\n",
       "      <td>2</td>\n",
       "      <td>2014-05-15</td>\n",
       "      <td>2014-09-18</td>\n",
       "      <td>1295</td>\n",
       "    </tr>\n",
       "    <tr>\n",
       "      <th>3</th>\n",
       "      <td>Imagine Communications</td>\n",
       "      <td>Software|Video|Video Streaming</td>\n",
       "      <td>34700000.0</td>\n",
       "      <td>USA</td>\n",
       "      <td>CA</td>\n",
       "      <td>San Diego</td>\n",
       "      <td>San Diego</td>\n",
       "      <td>4</td>\n",
       "      <td>2005-01-01</td>\n",
       "      <td>2010-04-20</td>\n",
       "      <td>4748</td>\n",
       "    </tr>\n",
       "    <tr>\n",
       "      <th>4</th>\n",
       "      <td>DNA13</td>\n",
       "      <td>Software</td>\n",
       "      <td>4530000.0</td>\n",
       "      <td>CAN</td>\n",
       "      <td>ON</td>\n",
       "      <td>Ottawa</td>\n",
       "      <td>Ottawa</td>\n",
       "      <td>1</td>\n",
       "      <td>2007-05-08</td>\n",
       "      <td>2007-05-08</td>\n",
       "      <td>6209</td>\n",
       "    </tr>\n",
       "  </tbody>\n",
       "</table>\n",
       "</div>"
      ],
      "text/plain": [
       "                     name                   category_list  funding_total_usd  \\\n",
       "0              Crystalsol                Clean Technology          2819200.0   \n",
       "1        JBI Fish & Wings                     Hospitality                NaN   \n",
       "2                COINPLUS                         Finance           428257.0   \n",
       "3  Imagine Communications  Software|Video|Video Streaming         34700000.0   \n",
       "4                   DNA13                        Software          4530000.0   \n",
       "\n",
       "  country_code state_code            region              city  funding_rounds  \\\n",
       "0          NIC         17               NaN               NaN               1   \n",
       "1          USA         TN        TN - Other          Humboldt               1   \n",
       "2          LUX          3  Esch-sur-alzette  Esch-sur-alzette               2   \n",
       "3          USA         CA         San Diego         San Diego               4   \n",
       "4          CAN         ON            Ottawa            Ottawa               1   \n",
       "\n",
       "  first_funding_at last_funding_at  lifetime  \n",
       "0       2009-07-01      2009-07-01      3501  \n",
       "1       2010-07-28      2010-07-28      2717  \n",
       "2       2014-05-15      2014-09-18      1295  \n",
       "3       2005-01-01      2010-04-20      4748  \n",
       "4       2007-05-08      2007-05-08      6209  "
      ]
     },
     "metadata": {},
     "output_type": "display_data"
    },
    {
     "name": "stdout",
     "output_type": "stream",
     "text": [
      "<class 'pandas.core.frame.DataFrame'>\n",
      "RangeIndex: 13125 entries, 0 to 13124\n",
      "Data columns (total 11 columns):\n",
      " #   Column             Non-Null Count  Dtype  \n",
      "---  ------             --------------  -----  \n",
      " 0   name               13125 non-null  object \n",
      " 1   category_list      12534 non-null  object \n",
      " 2   funding_total_usd  10547 non-null  float64\n",
      " 3   country_code       11743 non-null  object \n",
      " 4   state_code         11430 non-null  object \n",
      " 5   region             11536 non-null  object \n",
      " 6   city               11538 non-null  object \n",
      " 7   funding_rounds     13125 non-null  int64  \n",
      " 8   first_funding_at   13125 non-null  object \n",
      " 9   last_funding_at    13125 non-null  object \n",
      " 10  lifetime           13125 non-null  int64  \n",
      "dtypes: float64(1), int64(2), object(8)\n",
      "memory usage: 1.1+ MB\n"
     ]
    }
   ],
   "source": [
    "# Взглянем на загруженные данные\n",
    "display(test_dataset.head())\n",
    "test_dataset.info()"
   ]
  },
  {
   "cell_type": "markdown",
   "metadata": {},
   "source": [
    "Столбец name не несет ценной информации, поэтому сразу удалим его из обоих датасетов. \n",
    "Кроме того, из тренировочного датасета сразу отделим целевую переменную (в которой отсутсвуют пропуски, что критично важно)."
   ]
  },
  {
   "cell_type": "markdown",
   "metadata": {},
   "source": [
    "В первую очередь мы видим, что форматы данных не соответствуют необходимым.\n",
    "\n",
    "Необходимо изменить следующие форматы данных:  \n",
    "founded_at - datetime  \n",
    "first_funding_at - datetime  \n",
    "last_funding_at - datetime  \n",
    "\n"
   ]
  },
  {
   "cell_type": "code",
   "execution_count": 6,
   "metadata": {
    "execution": {
     "iopub.execute_input": "2024-07-14T16:00:53.173091Z",
     "iopub.status.busy": "2024-07-14T16:00:53.172779Z",
     "iopub.status.idle": "2024-07-14T16:00:53.894928Z",
     "shell.execute_reply": "2024-07-14T16:00:53.894212Z",
     "shell.execute_reply.started": "2024-07-14T16:00:53.173071Z"
    },
    "tags": []
   },
   "outputs": [],
   "source": [
    "train_dataset['first_funding_at'] = train_dataset['first_funding_at'].astype('datetime64[ns]')\n",
    "train_dataset['last_funding_at'] = train_dataset['last_funding_at'].astype('datetime64[ns]')\n",
    "train_dataset['founded_at'] = train_dataset['founded_at'].astype('datetime64[ns]')\n",
    "train_dataset['closed_at'] = train_dataset['closed_at'].astype('datetime64[ns]')\n",
    "\n",
    "test_dataset['first_funding_at'] = test_dataset['first_funding_at'].astype('datetime64[ns]')\n",
    "test_dataset['last_funding_at'] = test_dataset['last_funding_at'].astype('datetime64[ns]')"
   ]
  },
  {
   "cell_type": "markdown",
   "metadata": {},
   "source": [
    "Далее рассмотрим пропущенные значения."
   ]
  },
  {
   "cell_type": "code",
   "execution_count": 7,
   "metadata": {
    "execution": {
     "iopub.execute_input": "2024-07-14T16:00:53.896160Z",
     "iopub.status.busy": "2024-07-14T16:00:53.895830Z",
     "iopub.status.idle": "2024-07-14T16:00:54.702921Z",
     "shell.execute_reply": "2024-07-14T16:00:54.702341Z",
     "shell.execute_reply.started": "2024-07-14T16:00:53.896137Z"
    },
    "tags": []
   },
   "outputs": [
    {
     "data": {
      "text/plain": [
       "name                     1\n",
       "category_list         2465\n",
       "funding_total_usd    10069\n",
       "status                   0\n",
       "country_code          5502\n",
       "state_code            6763\n",
       "region                6359\n",
       "city                  6359\n",
       "funding_rounds           0\n",
       "founded_at               0\n",
       "first_funding_at         0\n",
       "last_funding_at          0\n",
       "closed_at            47599\n",
       "dtype: int64"
      ]
     },
     "execution_count": 7,
     "metadata": {},
     "output_type": "execute_result"
    }
   ],
   "source": [
    "train_dataset.isna().sum()"
   ]
  },
  {
   "cell_type": "markdown",
   "metadata": {},
   "source": [
    "* 1 пропуск в поле name не является проблемой, поле не будет использовано в модели.\n",
    "* 47599 пропусков в поле closed_at - полностью совпадает со списком действующих стартапов. Пропуски полностью логичны, это знаит что стартап не закрыт по состоянию на 2018-01-01. Для полноты картины заполним этот признак текущей датой 2018-01-01. В дальнейшем не будем использовать этот столбец в явном виду, только для создания дополнительных признаков. \n",
    "* 2465 пропусков в Category list - необходимо заполнять пропуски. Изучим распределение, возможно заполним наиболее часто встречающейся категорией.\n",
    "* 10069 пропусков в funding_total_usd - необходимо заполнять пропуски. Изучим распределение, возможно, заполним медианным/средним значением.\n",
    "* Поля country_code, state_code, region, city - для всех записей, в которых пропущено значение страны, пропуещены и другие географические поля."
   ]
  },
  {
   "cell_type": "code",
   "execution_count": 8,
   "metadata": {
    "execution": {
     "iopub.execute_input": "2024-07-14T16:00:54.703962Z",
     "iopub.status.busy": "2024-07-14T16:00:54.703694Z",
     "iopub.status.idle": "2024-07-14T16:00:55.359377Z",
     "shell.execute_reply": "2024-07-14T16:00:55.358599Z",
     "shell.execute_reply.started": "2024-07-14T16:00:54.703947Z"
    },
    "tags": []
   },
   "outputs": [],
   "source": [
    "train_dataset['closed_at'] = train_dataset['closed_at'].fillna(pd.to_datetime('2018-01-01'))"
   ]
  },
  {
   "cell_type": "markdown",
   "metadata": {},
   "source": [
    "Сами по себе столбцы с данными нам не понадобятся, составим на их основе ряд возможных переменных"
   ]
  },
  {
   "cell_type": "code",
   "execution_count": 9,
   "metadata": {
    "execution": {
     "iopub.execute_input": "2024-07-14T16:00:55.360411Z",
     "iopub.status.busy": "2024-07-14T16:00:55.360209Z",
     "iopub.status.idle": "2024-07-14T16:00:56.096734Z",
     "shell.execute_reply": "2024-07-14T16:00:56.096052Z",
     "shell.execute_reply.started": "2024-07-14T16:00:55.360394Z"
    },
    "tags": []
   },
   "outputs": [],
   "source": [
    "train_dataset['lifetime'] = (train_dataset.closed_at-train_dataset.founded_at).dt.days\n",
    "\n",
    "# Год получения первого раунда фондирования\n",
    "train_dataset['first_funding_year'] = train_dataset['first_funding_at'].dt.year\n",
    "test_dataset['first_funding_year'] = test_dataset['first_funding_at'].dt.year\n",
    "\n",
    "\n",
    "train_dataset = train_dataset.drop(['founded_at','first_funding_at','last_funding_at','closed_at'],axis=1)\n",
    "test_dataset = test_dataset.drop(['first_funding_at','last_funding_at'],axis=1)"
   ]
  },
  {
   "cell_type": "markdown",
   "metadata": {},
   "source": [
    "Логично было бы еще создать переменную period_between_fundings, но она была бы линейно выразима через другие 3 переменные (как lifetime - time_to_first_funding - time_from_last_funding). Кроме того, косвенно мы учтем информацию о повторных продолжительных финансированияхз через количество раундов фондирования."
   ]
  },
  {
   "cell_type": "markdown",
   "metadata": {},
   "source": [
    "Проверим наличие дубликатов в датасете"
   ]
  },
  {
   "cell_type": "code",
   "execution_count": 10,
   "metadata": {
    "execution": {
     "iopub.execute_input": "2024-07-14T16:00:56.097908Z",
     "iopub.status.busy": "2024-07-14T16:00:56.097606Z",
     "iopub.status.idle": "2024-07-14T16:00:56.729270Z",
     "shell.execute_reply": "2024-07-14T16:00:56.728207Z",
     "shell.execute_reply.started": "2024-07-14T16:00:56.097889Z"
    },
    "tags": []
   },
   "outputs": [
    {
     "name": "stdout",
     "output_type": "stream",
     "text": [
      "0\n",
      "0\n"
     ]
    }
   ],
   "source": [
    "print(train_dataset.duplicated().sum()) \n",
    "print(test_dataset.duplicated().sum()) "
   ]
  },
  {
   "cell_type": "markdown",
   "metadata": {},
   "source": [
    "Явные дубликаты отсутствуют"
   ]
  },
  {
   "cell_type": "markdown",
   "metadata": {},
   "source": [
    "Итак, мы выяснили, что в данных:  \n",
    "(1) отсутствуют явные дубликаты  \n",
    "(2) изменили форматы нескольких столбцов  \n",
    "(3) необходимо заполнить множество пропущенных значений переменных\n",
    "\n",
    "Заполнение пропусков мы проведем далее после предварительного анализа корреляций."
   ]
  },
  {
   "cell_type": "markdown",
   "metadata": {},
   "source": [
    "## Предварительный анализ корреляций"
   ]
  },
  {
   "cell_type": "markdown",
   "metadata": {},
   "source": [
    "Используем библиотеку phik"
   ]
  },
  {
   "cell_type": "code",
   "execution_count": 11,
   "metadata": {
    "execution": {
     "iopub.execute_input": "2024-07-14T16:00:56.730415Z",
     "iopub.status.busy": "2024-07-14T16:00:56.730138Z",
     "iopub.status.idle": "2024-07-14T16:00:57.481058Z",
     "shell.execute_reply": "2024-07-14T16:00:57.480373Z",
     "shell.execute_reply.started": "2024-07-14T16:00:56.730397Z"
    },
    "tags": []
   },
   "outputs": [
    {
     "name": "stdout",
     "output_type": "stream",
     "text": [
      "<class 'pandas.core.frame.DataFrame'>\n",
      "RangeIndex: 52516 entries, 0 to 52515\n",
      "Data columns (total 11 columns):\n",
      " #   Column              Non-Null Count  Dtype  \n",
      "---  ------              --------------  -----  \n",
      " 0   name                52515 non-null  object \n",
      " 1   category_list       50051 non-null  object \n",
      " 2   funding_total_usd   42447 non-null  float64\n",
      " 3   status              52516 non-null  object \n",
      " 4   country_code        47014 non-null  object \n",
      " 5   state_code          45753 non-null  object \n",
      " 6   region              46157 non-null  object \n",
      " 7   city                46157 non-null  object \n",
      " 8   funding_rounds      52516 non-null  int64  \n",
      " 9   lifetime            52516 non-null  int64  \n",
      " 10  first_funding_year  52516 non-null  int64  \n",
      "dtypes: float64(1), int64(3), object(7)\n",
      "memory usage: 4.4+ MB\n"
     ]
    }
   ],
   "source": [
    "train_dataset.info()"
   ]
  },
  {
   "cell_type": "code",
   "execution_count": 12,
   "metadata": {
    "execution": {
     "iopub.execute_input": "2024-07-14T16:00:57.482213Z",
     "iopub.status.busy": "2024-07-14T16:00:57.481905Z",
     "iopub.status.idle": "2024-07-14T16:01:15.488810Z",
     "shell.execute_reply": "2024-07-14T16:01:15.487309Z",
     "shell.execute_reply.started": "2024-07-14T16:00:57.482195Z"
    }
   },
   "outputs": [
    {
     "data": {
      "image/png": "[encoded data removed]",
      "text/plain": [
       "<Figure size 900x600 with 2 Axes>"
      ]
     },
     "metadata": {},
     "output_type": "display_data"
    }
   ],
   "source": [
    "phik_overview = train_dataset.dropna().drop('name',axis=1).sample(1000)\n",
    "\n",
    "plt.figure(figsize = (9,6))\n",
    "sns.heatmap(phik_overview.phik_matrix(interval_cols=['funding_total_usd', 'funding_rounds', 'funding_period', 'lifetime']),\n",
    "            annot = True,cmap='coolwarm')\n",
    "plt.title('Матрица корреляций')\n",
    "\n",
    "plt.tight_layout()\n",
    "plt.show()"
   ]
  },
  {
   "cell_type": "markdown",
   "metadata": {},
   "source": [
    "В первую очередь важно отметить сильнейшую взаимосвязь между переменными локации. В дальнейшем мы соберем ценную информацию о локации в одно поле и удалим остальные для избежания мультиколлинеарности.\n",
    "В остальном, большинство переменных имеют слабую корреляцию с целевой (status), самым сильным влиянием обладает переменная lifetime."
   ]
  },
  {
   "cell_type": "markdown",
   "metadata": {},
   "source": [
    "## Работа с полем category_list\n",
    "\n",
    "В первую очередь определимся с логикой заполнения категории стартапов."
   ]
  },
  {
   "cell_type": "code",
   "execution_count": 13,
   "metadata": {
    "execution": {
     "iopub.execute_input": "2024-07-14T16:01:15.491505Z",
     "iopub.status.busy": "2024-07-14T16:01:15.491003Z",
     "iopub.status.idle": "2024-07-14T16:01:15.656259Z",
     "shell.execute_reply": "2024-07-14T16:01:15.655566Z",
     "shell.execute_reply.started": "2024-07-14T16:01:15.491469Z"
    },
    "tags": []
   },
   "outputs": [
    {
     "data": {
      "text/html": [
       "<div>\n",
       "<style scoped>\n",
       "    .dataframe tbody tr th:only-of-type {\n",
       "        vertical-align: middle;\n",
       "    }\n",
       "\n",
       "    .dataframe tbody tr th {\n",
       "        vertical-align: top;\n",
       "    }\n",
       "\n",
       "    .dataframe thead th {\n",
       "        text-align: right;\n",
       "    }\n",
       "</style>\n",
       "<table border=\"1\" class=\"dataframe\">\n",
       "  <thead>\n",
       "    <tr style=\"text-align: right;\">\n",
       "      <th></th>\n",
       "      <th>name</th>\n",
       "      <th>category_list</th>\n",
       "      <th>funding_total_usd</th>\n",
       "      <th>status</th>\n",
       "      <th>country_code</th>\n",
       "      <th>state_code</th>\n",
       "      <th>region</th>\n",
       "      <th>city</th>\n",
       "      <th>funding_rounds</th>\n",
       "      <th>lifetime</th>\n",
       "      <th>first_funding_year</th>\n",
       "    </tr>\n",
       "  </thead>\n",
       "  <tbody>\n",
       "    <tr>\n",
       "      <th>0</th>\n",
       "      <td>Lunchgate</td>\n",
       "      <td>[Online Reservations, Restaurants]</td>\n",
       "      <td>828626.0</td>\n",
       "      <td>operating</td>\n",
       "      <td>CHE</td>\n",
       "      <td>25</td>\n",
       "      <td>Zurich</td>\n",
       "      <td>Zürich</td>\n",
       "      <td>2</td>\n",
       "      <td>2998</td>\n",
       "      <td>2011</td>\n",
       "    </tr>\n",
       "    <tr>\n",
       "      <th>1</th>\n",
       "      <td>EarLens</td>\n",
       "      <td>[Manufacturing, Medical, Medical Devices]</td>\n",
       "      <td>42935019.0</td>\n",
       "      <td>operating</td>\n",
       "      <td>USA</td>\n",
       "      <td>CA</td>\n",
       "      <td>SF Bay Area</td>\n",
       "      <td>Redwood City</td>\n",
       "      <td>4</td>\n",
       "      <td>4748</td>\n",
       "      <td>2010</td>\n",
       "    </tr>\n",
       "    <tr>\n",
       "      <th>2</th>\n",
       "      <td>Reviva Pharmaceuticals</td>\n",
       "      <td>[Biotechnology]</td>\n",
       "      <td>35456381.0</td>\n",
       "      <td>operating</td>\n",
       "      <td>USA</td>\n",
       "      <td>CA</td>\n",
       "      <td>SF Bay Area</td>\n",
       "      <td>San Jose</td>\n",
       "      <td>3</td>\n",
       "      <td>4383</td>\n",
       "      <td>2012</td>\n",
       "    </tr>\n",
       "    <tr>\n",
       "      <th>3</th>\n",
       "      <td>Sancilio and Company</td>\n",
       "      <td>[Health Care]</td>\n",
       "      <td>22250000.0</td>\n",
       "      <td>operating</td>\n",
       "      <td>NaN</td>\n",
       "      <td>NaN</td>\n",
       "      <td>NaN</td>\n",
       "      <td>NaN</td>\n",
       "      <td>3</td>\n",
       "      <td>5114</td>\n",
       "      <td>2011</td>\n",
       "    </tr>\n",
       "    <tr>\n",
       "      <th>4</th>\n",
       "      <td>WireTough Cylinders</td>\n",
       "      <td>[Manufacturing]</td>\n",
       "      <td>NaN</td>\n",
       "      <td>operating</td>\n",
       "      <td>USA</td>\n",
       "      <td>VA</td>\n",
       "      <td>VA - Other</td>\n",
       "      <td>Bristol</td>\n",
       "      <td>1</td>\n",
       "      <td>2791</td>\n",
       "      <td>2012</td>\n",
       "    </tr>\n",
       "  </tbody>\n",
       "</table>\n",
       "</div>"
      ],
      "text/plain": [
       "                     name                              category_list  \\\n",
       "0               Lunchgate         [Online Reservations, Restaurants]   \n",
       "1                 EarLens  [Manufacturing, Medical, Medical Devices]   \n",
       "2  Reviva Pharmaceuticals                            [Biotechnology]   \n",
       "3    Sancilio and Company                              [Health Care]   \n",
       "4     WireTough Cylinders                            [Manufacturing]   \n",
       "\n",
       "   funding_total_usd     status country_code state_code       region  \\\n",
       "0           828626.0  operating          CHE         25       Zurich   \n",
       "1         42935019.0  operating          USA         CA  SF Bay Area   \n",
       "2         35456381.0  operating          USA         CA  SF Bay Area   \n",
       "3         22250000.0  operating          NaN        NaN          NaN   \n",
       "4                NaN  operating          USA         VA   VA - Other   \n",
       "\n",
       "           city  funding_rounds  lifetime  first_funding_year  \n",
       "0        Zürich               2      2998                2011  \n",
       "1  Redwood City               4      4748                2010  \n",
       "2      San Jose               3      4383                2012  \n",
       "3           NaN               3      5114                2011  \n",
       "4       Bristol               1      2791                2012  "
      ]
     },
     "execution_count": 13,
     "metadata": {},
     "output_type": "execute_result"
    }
   ],
   "source": [
    "# Найдем все уникальные названия категорий стартапов и сколько раз они встречаются\n",
    "\n",
    "train_dataset['category_list'] = train_dataset['category_list'].str.split('|',expand = False)\n",
    "train_dataset.head()"
   ]
  },
  {
   "cell_type": "code",
   "execution_count": 14,
   "metadata": {
    "execution": {
     "iopub.execute_input": "2024-07-14T16:01:15.657901Z",
     "iopub.status.busy": "2024-07-14T16:01:15.657297Z",
     "iopub.status.idle": "2024-07-14T16:01:15.990055Z",
     "shell.execute_reply": "2024-07-14T16:01:15.989555Z",
     "shell.execute_reply.started": "2024-07-14T16:01:15.657825Z"
    },
    "tags": []
   },
   "outputs": [
    {
     "data": {
      "text/plain": [
       "40.0"
      ]
     },
     "execution_count": 14,
     "metadata": {},
     "output_type": "execute_result"
    }
   ],
   "source": [
    "train_dataset['n_categories'] = train_dataset['category_list'].apply(lambda x: len(x) if isinstance(x, list) else np.nan)\n",
    "train_dataset['n_categories'].max()"
   ]
  },
  {
   "cell_type": "markdown",
   "metadata": {},
   "source": [
    "Мы видим, что в датасете встречаются стартапы, у которых задано до 40 категорий. Необходимо выбрать только одну.\n",
    "\n",
    "Создадим частотный справочник для названий категорий.\n",
    "В случае, если у стартапа несколько категорий, из них должны выбираться самая частов стерчающая категория."
   ]
  },
  {
   "cell_type": "code",
   "execution_count": 15,
   "metadata": {
    "execution": {
     "iopub.execute_input": "2024-07-14T16:01:15.991005Z",
     "iopub.status.busy": "2024-07-14T16:01:15.990758Z",
     "iopub.status.idle": "2024-07-14T16:01:18.053399Z",
     "shell.execute_reply": "2024-07-14T16:01:18.052726Z",
     "shell.execute_reply.started": "2024-07-14T16:01:15.990988Z"
    },
    "tags": []
   },
   "outputs": [
    {
     "data": {
      "image/png": "[encoded data removed]",
      "text/plain": [
       "<Figure size 640x480 with 1 Axes>"
      ]
     },
     "metadata": {},
     "output_type": "display_data"
    }
   ],
   "source": [
    "all_categopries_series = train_dataset['category_list'].explode().reset_index(drop=True)\n",
    "\n",
    "all_categopries_series.value_counts().plot(kind='bar')\n",
    "plt.xticks([])\n",
    "plt.show()"
   ]
  },
  {
   "cell_type": "markdown",
   "metadata": {},
   "source": [
    "Мы видим, что категории стартапов представлены очень неравномерно. Ожидаем, что после нашего упражнения ситуация значительно улучшится и редко встречающиеся категории стартапов заменятся на более распространенные."
   ]
  },
  {
   "cell_type": "code",
   "execution_count": 16,
   "metadata": {
    "execution": {
     "iopub.execute_input": "2024-07-14T16:01:18.054523Z",
     "iopub.status.busy": "2024-07-14T16:01:18.054257Z",
     "iopub.status.idle": "2024-07-14T16:01:18.069336Z",
     "shell.execute_reply": "2024-07-14T16:01:18.068816Z",
     "shell.execute_reply.started": "2024-07-14T16:01:18.054504Z"
    },
    "tags": []
   },
   "outputs": [],
   "source": [
    "# Частотный справочник\n",
    "category_freq = dict(all_categopries_series.value_counts())"
   ]
  },
  {
   "cell_type": "code",
   "execution_count": 17,
   "metadata": {
    "execution": {
     "iopub.execute_input": "2024-07-14T16:01:18.070385Z",
     "iopub.status.busy": "2024-07-14T16:01:18.070074Z",
     "iopub.status.idle": "2024-07-14T16:01:23.205567Z",
     "shell.execute_reply": "2024-07-14T16:01:23.204819Z",
     "shell.execute_reply.started": "2024-07-14T16:01:18.070367Z"
    },
    "tags": []
   },
   "outputs": [],
   "source": [
    "# Функция для выбора элемента с самым большим значением из справочника\n",
    "def select_max_value(lst, value_dict):\n",
    "    if not isinstance(lst, list):\n",
    "        return np.nan\n",
    "    \n",
    "    return max(lst, key=lambda x: value_dict.get(x, 0))\n",
    "\n",
    "train_dataset['category'] = train_dataset['category_list'].apply(select_max_value, value_dict=category_freq)"
   ]
  },
  {
   "cell_type": "code",
   "execution_count": 18,
   "metadata": {
    "execution": {
     "iopub.execute_input": "2024-07-14T16:01:23.207242Z",
     "iopub.status.busy": "2024-07-14T16:01:23.206728Z",
     "iopub.status.idle": "2024-07-14T16:01:28.227069Z",
     "shell.execute_reply": "2024-07-14T16:01:28.226360Z",
     "shell.execute_reply.started": "2024-07-14T16:01:23.207212Z"
    },
    "tags": []
   },
   "outputs": [
    {
     "data": {
      "text/html": [
       "<div>\n",
       "<style scoped>\n",
       "    .dataframe tbody tr th:only-of-type {\n",
       "        vertical-align: middle;\n",
       "    }\n",
       "\n",
       "    .dataframe tbody tr th {\n",
       "        vertical-align: top;\n",
       "    }\n",
       "\n",
       "    .dataframe thead th {\n",
       "        text-align: right;\n",
       "    }\n",
       "</style>\n",
       "<table border=\"1\" class=\"dataframe\">\n",
       "  <thead>\n",
       "    <tr style=\"text-align: right;\">\n",
       "      <th></th>\n",
       "      <th>name</th>\n",
       "      <th>category_list</th>\n",
       "      <th>funding_total_usd</th>\n",
       "      <th>status</th>\n",
       "      <th>country_code</th>\n",
       "      <th>state_code</th>\n",
       "      <th>region</th>\n",
       "      <th>city</th>\n",
       "      <th>funding_rounds</th>\n",
       "      <th>lifetime</th>\n",
       "      <th>first_funding_year</th>\n",
       "      <th>n_categories</th>\n",
       "      <th>category</th>\n",
       "    </tr>\n",
       "  </thead>\n",
       "  <tbody>\n",
       "    <tr>\n",
       "      <th>0</th>\n",
       "      <td>Lunchgate</td>\n",
       "      <td>[Online Reservations, Restaurants]</td>\n",
       "      <td>828626.0</td>\n",
       "      <td>operating</td>\n",
       "      <td>CHE</td>\n",
       "      <td>25</td>\n",
       "      <td>Zurich</td>\n",
       "      <td>Zürich</td>\n",
       "      <td>2</td>\n",
       "      <td>2998</td>\n",
       "      <td>2011</td>\n",
       "      <td>2.0</td>\n",
       "      <td>Restaurants</td>\n",
       "    </tr>\n",
       "    <tr>\n",
       "      <th>1</th>\n",
       "      <td>EarLens</td>\n",
       "      <td>[Manufacturing, Medical, Medical Devices]</td>\n",
       "      <td>42935019.0</td>\n",
       "      <td>operating</td>\n",
       "      <td>USA</td>\n",
       "      <td>CA</td>\n",
       "      <td>SF Bay Area</td>\n",
       "      <td>Redwood City</td>\n",
       "      <td>4</td>\n",
       "      <td>4748</td>\n",
       "      <td>2010</td>\n",
       "      <td>3.0</td>\n",
       "      <td>Manufacturing</td>\n",
       "    </tr>\n",
       "    <tr>\n",
       "      <th>2</th>\n",
       "      <td>Reviva Pharmaceuticals</td>\n",
       "      <td>[Biotechnology]</td>\n",
       "      <td>35456381.0</td>\n",
       "      <td>operating</td>\n",
       "      <td>USA</td>\n",
       "      <td>CA</td>\n",
       "      <td>SF Bay Area</td>\n",
       "      <td>San Jose</td>\n",
       "      <td>3</td>\n",
       "      <td>4383</td>\n",
       "      <td>2012</td>\n",
       "      <td>1.0</td>\n",
       "      <td>Biotechnology</td>\n",
       "    </tr>\n",
       "    <tr>\n",
       "      <th>3</th>\n",
       "      <td>Sancilio and Company</td>\n",
       "      <td>[Health Care]</td>\n",
       "      <td>22250000.0</td>\n",
       "      <td>operating</td>\n",
       "      <td>NaN</td>\n",
       "      <td>NaN</td>\n",
       "      <td>NaN</td>\n",
       "      <td>NaN</td>\n",
       "      <td>3</td>\n",
       "      <td>5114</td>\n",
       "      <td>2011</td>\n",
       "      <td>1.0</td>\n",
       "      <td>Health Care</td>\n",
       "    </tr>\n",
       "    <tr>\n",
       "      <th>4</th>\n",
       "      <td>WireTough Cylinders</td>\n",
       "      <td>[Manufacturing]</td>\n",
       "      <td>NaN</td>\n",
       "      <td>operating</td>\n",
       "      <td>USA</td>\n",
       "      <td>VA</td>\n",
       "      <td>VA - Other</td>\n",
       "      <td>Bristol</td>\n",
       "      <td>1</td>\n",
       "      <td>2791</td>\n",
       "      <td>2012</td>\n",
       "      <td>1.0</td>\n",
       "      <td>Manufacturing</td>\n",
       "    </tr>\n",
       "  </tbody>\n",
       "</table>\n",
       "</div>"
      ],
      "text/plain": [
       "                     name                              category_list  \\\n",
       "0               Lunchgate         [Online Reservations, Restaurants]   \n",
       "1                 EarLens  [Manufacturing, Medical, Medical Devices]   \n",
       "2  Reviva Pharmaceuticals                            [Biotechnology]   \n",
       "3    Sancilio and Company                              [Health Care]   \n",
       "4     WireTough Cylinders                            [Manufacturing]   \n",
       "\n",
       "   funding_total_usd     status country_code state_code       region  \\\n",
       "0           828626.0  operating          CHE         25       Zurich   \n",
       "1         42935019.0  operating          USA         CA  SF Bay Area   \n",
       "2         35456381.0  operating          USA         CA  SF Bay Area   \n",
       "3         22250000.0  operating          NaN        NaN          NaN   \n",
       "4                NaN  operating          USA         VA   VA - Other   \n",
       "\n",
       "           city  funding_rounds  lifetime  first_funding_year  n_categories  \\\n",
       "0        Zürich               2      2998                2011           2.0   \n",
       "1  Redwood City               4      4748                2010           3.0   \n",
       "2      San Jose               3      4383                2012           1.0   \n",
       "3           NaN               3      5114                2011           1.0   \n",
       "4       Bristol               1      2791                2012           1.0   \n",
       "\n",
       "        category  \n",
       "0    Restaurants  \n",
       "1  Manufacturing  \n",
       "2  Biotechnology  \n",
       "3    Health Care  \n",
       "4  Manufacturing  "
      ]
     },
     "metadata": {},
     "output_type": "display_data"
    }
   ],
   "source": [
    "display(train_dataset.head())"
   ]
  },
  {
   "cell_type": "markdown",
   "metadata": {},
   "source": [
    "В целом нам удлось преобразовать форматы данных таким образом, чтобы каждому стартапу соответствовала одна категория. Однако мы все еще имеем сликом большое кол-во категорий и все еще не заполнили пропуски.\n"
   ]
  },
  {
   "cell_type": "code",
   "execution_count": 19,
   "metadata": {
    "execution": {
     "iopub.execute_input": "2024-07-14T16:01:28.228262Z",
     "iopub.status.busy": "2024-07-14T16:01:28.228000Z",
     "iopub.status.idle": "2024-07-14T16:01:29.040053Z",
     "shell.execute_reply": "2024-07-14T16:01:29.039549Z",
     "shell.execute_reply.started": "2024-07-14T16:01:28.228245Z"
    },
    "tags": []
   },
   "outputs": [],
   "source": [
    "# Загрузим заранее подготовленный справочник с верхнеуровневой группировкой категорий стартапов\n",
    "category_dict = pd.read_csv('category_dict.csv').set_index('category')['up_category'].to_dict()\n",
    "\n",
    "train_dataset['category_subs'] = train_dataset['category'].apply(lambda x: category_dict.get(x, 'Other'))"
   ]
  },
  {
   "cell_type": "code",
   "execution_count": 20,
   "metadata": {
    "execution": {
     "iopub.execute_input": "2024-07-14T16:01:29.040888Z",
     "iopub.status.busy": "2024-07-14T16:01:29.040714Z",
     "iopub.status.idle": "2024-07-14T16:01:29.578391Z",
     "shell.execute_reply": "2024-07-14T16:01:29.577650Z",
     "shell.execute_reply.started": "2024-07-14T16:01:29.040873Z"
    }
   },
   "outputs": [
    {
     "data": {
      "text/html": [
       "<div>\n",
       "<style scoped>\n",
       "    .dataframe tbody tr th:only-of-type {\n",
       "        vertical-align: middle;\n",
       "    }\n",
       "\n",
       "    .dataframe tbody tr th {\n",
       "        vertical-align: top;\n",
       "    }\n",
       "\n",
       "    .dataframe thead th {\n",
       "        text-align: right;\n",
       "    }\n",
       "</style>\n",
       "<table border=\"1\" class=\"dataframe\">\n",
       "  <thead>\n",
       "    <tr style=\"text-align: right;\">\n",
       "      <th></th>\n",
       "      <th>name</th>\n",
       "      <th>category_list</th>\n",
       "      <th>funding_total_usd</th>\n",
       "      <th>status</th>\n",
       "      <th>country_code</th>\n",
       "      <th>state_code</th>\n",
       "      <th>region</th>\n",
       "      <th>city</th>\n",
       "      <th>funding_rounds</th>\n",
       "      <th>lifetime</th>\n",
       "      <th>first_funding_year</th>\n",
       "      <th>n_categories</th>\n",
       "      <th>category</th>\n",
       "      <th>category_subs</th>\n",
       "    </tr>\n",
       "  </thead>\n",
       "  <tbody>\n",
       "    <tr>\n",
       "      <th>0</th>\n",
       "      <td>Lunchgate</td>\n",
       "      <td>[Online Reservations, Restaurants]</td>\n",
       "      <td>828626.0</td>\n",
       "      <td>operating</td>\n",
       "      <td>CHE</td>\n",
       "      <td>25</td>\n",
       "      <td>Zurich</td>\n",
       "      <td>Zürich</td>\n",
       "      <td>2</td>\n",
       "      <td>2998</td>\n",
       "      <td>2011</td>\n",
       "      <td>2.0</td>\n",
       "      <td>Restaurants</td>\n",
       "      <td>Entertainment</td>\n",
       "    </tr>\n",
       "    <tr>\n",
       "      <th>1</th>\n",
       "      <td>EarLens</td>\n",
       "      <td>[Manufacturing, Medical, Medical Devices]</td>\n",
       "      <td>42935019.0</td>\n",
       "      <td>operating</td>\n",
       "      <td>USA</td>\n",
       "      <td>CA</td>\n",
       "      <td>SF Bay Area</td>\n",
       "      <td>Redwood City</td>\n",
       "      <td>4</td>\n",
       "      <td>4748</td>\n",
       "      <td>2010</td>\n",
       "      <td>3.0</td>\n",
       "      <td>Manufacturing</td>\n",
       "      <td>Manufacturing</td>\n",
       "    </tr>\n",
       "    <tr>\n",
       "      <th>2</th>\n",
       "      <td>Reviva Pharmaceuticals</td>\n",
       "      <td>[Biotechnology]</td>\n",
       "      <td>35456381.0</td>\n",
       "      <td>operating</td>\n",
       "      <td>USA</td>\n",
       "      <td>CA</td>\n",
       "      <td>SF Bay Area</td>\n",
       "      <td>San Jose</td>\n",
       "      <td>3</td>\n",
       "      <td>4383</td>\n",
       "      <td>2012</td>\n",
       "      <td>1.0</td>\n",
       "      <td>Biotechnology</td>\n",
       "      <td>Biotechnology</td>\n",
       "    </tr>\n",
       "    <tr>\n",
       "      <th>3</th>\n",
       "      <td>Sancilio and Company</td>\n",
       "      <td>[Health Care]</td>\n",
       "      <td>22250000.0</td>\n",
       "      <td>operating</td>\n",
       "      <td>NaN</td>\n",
       "      <td>NaN</td>\n",
       "      <td>NaN</td>\n",
       "      <td>NaN</td>\n",
       "      <td>3</td>\n",
       "      <td>5114</td>\n",
       "      <td>2011</td>\n",
       "      <td>1.0</td>\n",
       "      <td>Health Care</td>\n",
       "      <td>Health Care</td>\n",
       "    </tr>\n",
       "    <tr>\n",
       "      <th>4</th>\n",
       "      <td>WireTough Cylinders</td>\n",
       "      <td>[Manufacturing]</td>\n",
       "      <td>NaN</td>\n",
       "      <td>operating</td>\n",
       "      <td>USA</td>\n",
       "      <td>VA</td>\n",
       "      <td>VA - Other</td>\n",
       "      <td>Bristol</td>\n",
       "      <td>1</td>\n",
       "      <td>2791</td>\n",
       "      <td>2012</td>\n",
       "      <td>1.0</td>\n",
       "      <td>Manufacturing</td>\n",
       "      <td>Manufacturing</td>\n",
       "    </tr>\n",
       "    <tr>\n",
       "      <th>...</th>\n",
       "      <td>...</td>\n",
       "      <td>...</td>\n",
       "      <td>...</td>\n",
       "      <td>...</td>\n",
       "      <td>...</td>\n",
       "      <td>...</td>\n",
       "      <td>...</td>\n",
       "      <td>...</td>\n",
       "      <td>...</td>\n",
       "      <td>...</td>\n",
       "      <td>...</td>\n",
       "      <td>...</td>\n",
       "      <td>...</td>\n",
       "      <td>...</td>\n",
       "    </tr>\n",
       "    <tr>\n",
       "      <th>52511</th>\n",
       "      <td>Videostream</td>\n",
       "      <td>[Entertainment]</td>\n",
       "      <td>NaN</td>\n",
       "      <td>operating</td>\n",
       "      <td>CAN</td>\n",
       "      <td>ON</td>\n",
       "      <td>Toronto</td>\n",
       "      <td>Kitchener</td>\n",
       "      <td>1</td>\n",
       "      <td>2192</td>\n",
       "      <td>2014</td>\n",
       "      <td>1.0</td>\n",
       "      <td>Entertainment</td>\n",
       "      <td>Entertainment</td>\n",
       "    </tr>\n",
       "    <tr>\n",
       "      <th>52512</th>\n",
       "      <td>Hello Curry</td>\n",
       "      <td>[Hospitality]</td>\n",
       "      <td>500000.0</td>\n",
       "      <td>operating</td>\n",
       "      <td>IND</td>\n",
       "      <td>2</td>\n",
       "      <td>Hyderabad</td>\n",
       "      <td>Hyderabad</td>\n",
       "      <td>1</td>\n",
       "      <td>1590</td>\n",
       "      <td>2014</td>\n",
       "      <td>1.0</td>\n",
       "      <td>Hospitality</td>\n",
       "      <td>Services</td>\n",
       "    </tr>\n",
       "    <tr>\n",
       "      <th>52513</th>\n",
       "      <td>Taskforce</td>\n",
       "      <td>[Email, Messaging, Productivity Software]</td>\n",
       "      <td>50000.0</td>\n",
       "      <td>operating</td>\n",
       "      <td>USA</td>\n",
       "      <td>CA</td>\n",
       "      <td>SF Bay Area</td>\n",
       "      <td>San Francisco</td>\n",
       "      <td>3</td>\n",
       "      <td>2741</td>\n",
       "      <td>2009</td>\n",
       "      <td>3.0</td>\n",
       "      <td>Messaging</td>\n",
       "      <td>Entertainment</td>\n",
       "    </tr>\n",
       "    <tr>\n",
       "      <th>52514</th>\n",
       "      <td>NetScaler</td>\n",
       "      <td>[Security]</td>\n",
       "      <td>13000000.0</td>\n",
       "      <td>operating</td>\n",
       "      <td>USA</td>\n",
       "      <td>CA</td>\n",
       "      <td>SF Bay Area</td>\n",
       "      <td>San Jose</td>\n",
       "      <td>6</td>\n",
       "      <td>7336</td>\n",
       "      <td>1998</td>\n",
       "      <td>1.0</td>\n",
       "      <td>Security</td>\n",
       "      <td>Technology</td>\n",
       "    </tr>\n",
       "    <tr>\n",
       "      <th>52515</th>\n",
       "      <td>Apparcando</td>\n",
       "      <td>[Online Rental, Parking, Price Comparison]</td>\n",
       "      <td>270820.0</td>\n",
       "      <td>operating</td>\n",
       "      <td>ESP</td>\n",
       "      <td>60</td>\n",
       "      <td>Valencia</td>\n",
       "      <td>Valencia</td>\n",
       "      <td>1</td>\n",
       "      <td>1969</td>\n",
       "      <td>2014</td>\n",
       "      <td>3.0</td>\n",
       "      <td>Online Rental</td>\n",
       "      <td>Other</td>\n",
       "    </tr>\n",
       "  </tbody>\n",
       "</table>\n",
       "<p>52516 rows × 14 columns</p>\n",
       "</div>"
      ],
      "text/plain": [
       "                         name                               category_list  \\\n",
       "0                   Lunchgate          [Online Reservations, Restaurants]   \n",
       "1                     EarLens   [Manufacturing, Medical, Medical Devices]   \n",
       "2      Reviva Pharmaceuticals                             [Biotechnology]   \n",
       "3        Sancilio and Company                               [Health Care]   \n",
       "4         WireTough Cylinders                             [Manufacturing]   \n",
       "...                       ...                                         ...   \n",
       "52511             Videostream                             [Entertainment]   \n",
       "52512             Hello Curry                               [Hospitality]   \n",
       "52513               Taskforce   [Email, Messaging, Productivity Software]   \n",
       "52514               NetScaler                                  [Security]   \n",
       "52515              Apparcando  [Online Rental, Parking, Price Comparison]   \n",
       "\n",
       "       funding_total_usd     status country_code state_code       region  \\\n",
       "0               828626.0  operating          CHE         25       Zurich   \n",
       "1             42935019.0  operating          USA         CA  SF Bay Area   \n",
       "2             35456381.0  operating          USA         CA  SF Bay Area   \n",
       "3             22250000.0  operating          NaN        NaN          NaN   \n",
       "4                    NaN  operating          USA         VA   VA - Other   \n",
       "...                  ...        ...          ...        ...          ...   \n",
       "52511                NaN  operating          CAN         ON      Toronto   \n",
       "52512           500000.0  operating          IND          2    Hyderabad   \n",
       "52513            50000.0  operating          USA         CA  SF Bay Area   \n",
       "52514         13000000.0  operating          USA         CA  SF Bay Area   \n",
       "52515           270820.0  operating          ESP         60     Valencia   \n",
       "\n",
       "                city  funding_rounds  lifetime  first_funding_year  \\\n",
       "0             Zürich               2      2998                2011   \n",
       "1       Redwood City               4      4748                2010   \n",
       "2           San Jose               3      4383                2012   \n",
       "3                NaN               3      5114                2011   \n",
       "4            Bristol               1      2791                2012   \n",
       "...              ...             ...       ...                 ...   \n",
       "52511      Kitchener               1      2192                2014   \n",
       "52512      Hyderabad               1      1590                2014   \n",
       "52513  San Francisco               3      2741                2009   \n",
       "52514       San Jose               6      7336                1998   \n",
       "52515       Valencia               1      1969                2014   \n",
       "\n",
       "       n_categories       category  category_subs  \n",
       "0               2.0    Restaurants  Entertainment  \n",
       "1               3.0  Manufacturing  Manufacturing  \n",
       "2               1.0  Biotechnology  Biotechnology  \n",
       "3               1.0    Health Care    Health Care  \n",
       "4               1.0  Manufacturing  Manufacturing  \n",
       "...             ...            ...            ...  \n",
       "52511           1.0  Entertainment  Entertainment  \n",
       "52512           1.0    Hospitality       Services  \n",
       "52513           3.0      Messaging  Entertainment  \n",
       "52514           1.0       Security     Technology  \n",
       "52515           3.0  Online Rental          Other  \n",
       "\n",
       "[52516 rows x 14 columns]"
      ]
     },
     "execution_count": 20,
     "metadata": {},
     "output_type": "execute_result"
    }
   ],
   "source": [
    "train_dataset"
   ]
  },
  {
   "cell_type": "markdown",
   "metadata": {},
   "source": [
    "C точки зрения заполнения пропусков, мы можем заполнить пропущенные значения категорией Other"
   ]
  },
  {
   "cell_type": "code",
   "execution_count": 21,
   "metadata": {
    "execution": {
     "iopub.execute_input": "2024-07-14T16:01:29.579447Z",
     "iopub.status.busy": "2024-07-14T16:01:29.579220Z",
     "iopub.status.idle": "2024-07-14T16:01:30.488844Z",
     "shell.execute_reply": "2024-07-14T16:01:30.488190Z",
     "shell.execute_reply.started": "2024-07-14T16:01:29.579430Z"
    },
    "tags": []
   },
   "outputs": [],
   "source": [
    "# Удалим промежуточные столбцы\n",
    "train_dataset = train_dataset.drop(['n_categories','category','category_list'], axis = 1)"
   ]
  },
  {
   "cell_type": "code",
   "execution_count": 22,
   "metadata": {
    "execution": {
     "iopub.execute_input": "2024-07-14T16:01:30.489896Z",
     "iopub.status.busy": "2024-07-14T16:01:30.489683Z",
     "iopub.status.idle": "2024-07-14T16:01:31.204365Z",
     "shell.execute_reply": "2024-07-14T16:01:31.203885Z",
     "shell.execute_reply.started": "2024-07-14T16:01:30.489879Z"
    },
    "tags": []
   },
   "outputs": [
    {
     "data": {
      "text/html": [
       "<div>\n",
       "<style scoped>\n",
       "    .dataframe tbody tr th:only-of-type {\n",
       "        vertical-align: middle;\n",
       "    }\n",
       "\n",
       "    .dataframe tbody tr th {\n",
       "        vertical-align: top;\n",
       "    }\n",
       "\n",
       "    .dataframe thead th {\n",
       "        text-align: right;\n",
       "    }\n",
       "</style>\n",
       "<table border=\"1\" class=\"dataframe\">\n",
       "  <thead>\n",
       "    <tr style=\"text-align: right;\">\n",
       "      <th></th>\n",
       "      <th>name</th>\n",
       "      <th>funding_total_usd</th>\n",
       "      <th>status</th>\n",
       "      <th>country_code</th>\n",
       "      <th>state_code</th>\n",
       "      <th>region</th>\n",
       "      <th>city</th>\n",
       "      <th>funding_rounds</th>\n",
       "      <th>lifetime</th>\n",
       "      <th>first_funding_year</th>\n",
       "      <th>category_subs</th>\n",
       "    </tr>\n",
       "  </thead>\n",
       "  <tbody>\n",
       "    <tr>\n",
       "      <th>0</th>\n",
       "      <td>Lunchgate</td>\n",
       "      <td>828626.0</td>\n",
       "      <td>operating</td>\n",
       "      <td>CHE</td>\n",
       "      <td>25</td>\n",
       "      <td>Zurich</td>\n",
       "      <td>Zürich</td>\n",
       "      <td>2</td>\n",
       "      <td>2998</td>\n",
       "      <td>2011</td>\n",
       "      <td>Entertainment</td>\n",
       "    </tr>\n",
       "    <tr>\n",
       "      <th>1</th>\n",
       "      <td>EarLens</td>\n",
       "      <td>42935019.0</td>\n",
       "      <td>operating</td>\n",
       "      <td>USA</td>\n",
       "      <td>CA</td>\n",
       "      <td>SF Bay Area</td>\n",
       "      <td>Redwood City</td>\n",
       "      <td>4</td>\n",
       "      <td>4748</td>\n",
       "      <td>2010</td>\n",
       "      <td>Manufacturing</td>\n",
       "    </tr>\n",
       "    <tr>\n",
       "      <th>2</th>\n",
       "      <td>Reviva Pharmaceuticals</td>\n",
       "      <td>35456381.0</td>\n",
       "      <td>operating</td>\n",
       "      <td>USA</td>\n",
       "      <td>CA</td>\n",
       "      <td>SF Bay Area</td>\n",
       "      <td>San Jose</td>\n",
       "      <td>3</td>\n",
       "      <td>4383</td>\n",
       "      <td>2012</td>\n",
       "      <td>Biotechnology</td>\n",
       "    </tr>\n",
       "    <tr>\n",
       "      <th>3</th>\n",
       "      <td>Sancilio and Company</td>\n",
       "      <td>22250000.0</td>\n",
       "      <td>operating</td>\n",
       "      <td>NaN</td>\n",
       "      <td>NaN</td>\n",
       "      <td>NaN</td>\n",
       "      <td>NaN</td>\n",
       "      <td>3</td>\n",
       "      <td>5114</td>\n",
       "      <td>2011</td>\n",
       "      <td>Health Care</td>\n",
       "    </tr>\n",
       "    <tr>\n",
       "      <th>4</th>\n",
       "      <td>WireTough Cylinders</td>\n",
       "      <td>NaN</td>\n",
       "      <td>operating</td>\n",
       "      <td>USA</td>\n",
       "      <td>VA</td>\n",
       "      <td>VA - Other</td>\n",
       "      <td>Bristol</td>\n",
       "      <td>1</td>\n",
       "      <td>2791</td>\n",
       "      <td>2012</td>\n",
       "      <td>Manufacturing</td>\n",
       "    </tr>\n",
       "  </tbody>\n",
       "</table>\n",
       "</div>"
      ],
      "text/plain": [
       "                     name  funding_total_usd     status country_code  \\\n",
       "0               Lunchgate           828626.0  operating          CHE   \n",
       "1                 EarLens         42935019.0  operating          USA   \n",
       "2  Reviva Pharmaceuticals         35456381.0  operating          USA   \n",
       "3    Sancilio and Company         22250000.0  operating          NaN   \n",
       "4     WireTough Cylinders                NaN  operating          USA   \n",
       "\n",
       "  state_code       region          city  funding_rounds  lifetime  \\\n",
       "0         25       Zurich        Zürich               2      2998   \n",
       "1         CA  SF Bay Area  Redwood City               4      4748   \n",
       "2         CA  SF Bay Area      San Jose               3      4383   \n",
       "3        NaN          NaN           NaN               3      5114   \n",
       "4         VA   VA - Other       Bristol               1      2791   \n",
       "\n",
       "   first_funding_year  category_subs  \n",
       "0                2011  Entertainment  \n",
       "1                2010  Manufacturing  \n",
       "2                2012  Biotechnology  \n",
       "3                2011    Health Care  \n",
       "4                2012  Manufacturing  "
      ]
     },
     "execution_count": 22,
     "metadata": {},
     "output_type": "execute_result"
    }
   ],
   "source": [
    "train_dataset.head()"
   ]
  },
  {
   "cell_type": "code",
   "execution_count": 23,
   "metadata": {
    "execution": {
     "iopub.execute_input": "2024-07-14T16:01:31.205214Z",
     "iopub.status.busy": "2024-07-14T16:01:31.205028Z",
     "iopub.status.idle": "2024-07-14T16:01:32.184173Z",
     "shell.execute_reply": "2024-07-14T16:01:32.183630Z",
     "shell.execute_reply.started": "2024-07-14T16:01:31.205198Z"
    }
   },
   "outputs": [
    {
     "data": {
      "text/plain": [
       "Software         10207\n",
       "Services          6658\n",
       "Entertainment     6053\n",
       "Technology        4466\n",
       "Mobile            4454\n",
       "E-Commerce        3765\n",
       "Biotechnology     3674\n",
       "Marketing         3633\n",
       "Other             3546\n",
       "Health Care       3292\n",
       "Manufacturing     2768\n",
       "Name: category_subs, dtype: int64"
      ]
     },
     "execution_count": 23,
     "metadata": {},
     "output_type": "execute_result"
    }
   ],
   "source": [
    "train_dataset.category_subs.value_counts()"
   ]
  },
  {
   "cell_type": "markdown",
   "metadata": {},
   "source": [
    "Проделаем такую же обработку с тестовым датасетом, на оснвое данных тренирочного (частотные таблицы и тд.) т.к. модель косвенно через трансформации не должна ничего знать о тестовой выборке."
   ]
  },
  {
   "cell_type": "code",
   "execution_count": 24,
   "metadata": {
    "execution": {
     "iopub.execute_input": "2024-07-14T16:01:32.185398Z",
     "iopub.status.busy": "2024-07-14T16:01:32.184965Z",
     "iopub.status.idle": "2024-07-14T16:01:32.931344Z",
     "shell.execute_reply": "2024-07-14T16:01:32.930568Z",
     "shell.execute_reply.started": "2024-07-14T16:01:32.185371Z"
    },
    "tags": []
   },
   "outputs": [
    {
     "data": {
      "text/plain": [
       "44.0"
      ]
     },
     "execution_count": 24,
     "metadata": {},
     "output_type": "execute_result"
    }
   ],
   "source": [
    "test_dataset['category_list'] = test_dataset['category_list'].str.split('|',expand = False)\n",
    "\n",
    "test_dataset['n_categories'] = test_dataset['category_list'].apply(lambda x: len(x) if isinstance(x, list) else np.nan)\n",
    "test_dataset['n_categories'].max()"
   ]
  },
  {
   "cell_type": "code",
   "execution_count": 25,
   "metadata": {
    "execution": {
     "iopub.execute_input": "2024-07-14T16:01:32.932930Z",
     "iopub.status.busy": "2024-07-14T16:01:32.932574Z",
     "iopub.status.idle": "2024-07-14T16:01:33.838237Z",
     "shell.execute_reply": "2024-07-14T16:01:33.837544Z",
     "shell.execute_reply.started": "2024-07-14T16:01:32.932904Z"
    },
    "tags": []
   },
   "outputs": [],
   "source": [
    "test_dataset['category'] = test_dataset['category_list'].apply(select_max_value, value_dict=category_freq)\n",
    "test_dataset['category_subs'] = test_dataset['category'].apply(lambda x: category_dict.get(x, 'Other'))"
   ]
  },
  {
   "cell_type": "code",
   "execution_count": 26,
   "metadata": {
    "execution": {
     "iopub.execute_input": "2024-07-14T16:01:33.847512Z",
     "iopub.status.busy": "2024-07-14T16:01:33.847056Z",
     "iopub.status.idle": "2024-07-14T16:01:34.580950Z",
     "shell.execute_reply": "2024-07-14T16:01:34.580364Z",
     "shell.execute_reply.started": "2024-07-14T16:01:33.847480Z"
    },
    "tags": []
   },
   "outputs": [],
   "source": [
    "# Удалим промежуточные столбцы\n",
    "test_dataset = test_dataset.drop(['n_categories','category','category_list'], axis = 1)"
   ]
  },
  {
   "cell_type": "code",
   "execution_count": 27,
   "metadata": {
    "execution": {
     "iopub.execute_input": "2024-07-14T16:01:34.583174Z",
     "iopub.status.busy": "2024-07-14T16:01:34.582517Z",
     "iopub.status.idle": "2024-07-14T16:01:35.560071Z",
     "shell.execute_reply": "2024-07-14T16:01:35.559577Z",
     "shell.execute_reply.started": "2024-07-14T16:01:34.583103Z"
    }
   },
   "outputs": [
    {
     "data": {
      "text/plain": [
       "Software         2478\n",
       "Services         1730\n",
       "Entertainment    1528\n",
       "Technology       1150\n",
       "Mobile           1098\n",
       "E-Commerce        929\n",
       "Other             902\n",
       "Marketing         897\n",
       "Biotechnology     872\n",
       "Health Care       836\n",
       "Manufacturing     705\n",
       "Name: category_subs, dtype: int64"
      ]
     },
     "execution_count": 27,
     "metadata": {},
     "output_type": "execute_result"
    }
   ],
   "source": [
    "test_dataset.category_subs.value_counts()"
   ]
  },
  {
   "cell_type": "markdown",
   "metadata": {},
   "source": [
    "## Работа с полями country_code, state_code, region, city"
   ]
  },
  {
   "cell_type": "markdown",
   "metadata": {
    "execution": {
     "iopub.execute_input": "2024-07-11T10:39:17.522271Z",
     "iopub.status.busy": "2024-07-11T10:39:17.521853Z",
     "iopub.status.idle": "2024-07-11T10:39:17.531626Z",
     "shell.execute_reply": "2024-07-11T10:39:17.529951Z",
     "shell.execute_reply.started": "2024-07-11T10:39:17.522239Z"
    }
   },
   "source": [
    "Как мы выяснили раньше, у всех 4 переменных связанных с локацией крайне сильная корреляция - вероятна проблема мультиколлинеарности.\n",
    "Для того, чтобы избавиться от нее, удалим часть переменных. По логике кажется, что больше всего информации может нести страна стартапа, оставим только ее, предварительно сгруппировав."
   ]
  },
  {
   "cell_type": "code",
   "execution_count": 28,
   "metadata": {
    "execution": {
     "iopub.execute_input": "2024-07-14T16:01:35.561054Z",
     "iopub.status.busy": "2024-07-14T16:01:35.560799Z",
     "iopub.status.idle": "2024-07-14T16:01:39.935558Z",
     "shell.execute_reply": "2024-07-14T16:01:39.935087Z",
     "shell.execute_reply.started": "2024-07-14T16:01:35.561037Z"
    }
   },
   "outputs": [
    {
     "data": {
      "text/plain": [
       "USA    29702\n",
       "GBR     2925\n",
       "CAN     1540\n",
       "IND     1276\n",
       "CHN     1240\n",
       "FRA      916\n",
       "DEU      834\n",
       "ISR      767\n",
       "ESP      607\n",
       "NLD      380\n",
       "AUS      379\n",
       "SWE      373\n",
       "RUS      369\n",
       "SGP      356\n",
       "BRA      355\n",
       "Name: country_code, dtype: int64"
      ]
     },
     "execution_count": 28,
     "metadata": {},
     "output_type": "execute_result"
    }
   ],
   "source": [
    "country_freq = dict(train_dataset.country_code.value_counts())\n",
    "train_dataset.country_code.value_counts().head(15)"
   ]
  },
  {
   "cell_type": "markdown",
   "metadata": {},
   "source": [
    "Видим, что стартапы из США доминируют в датасете, занимая примерно 60%. Помимо укрупнения стран попробуем дополнительно разбить США."
   ]
  },
  {
   "cell_type": "code",
   "execution_count": 29,
   "metadata": {
    "execution": {
     "iopub.execute_input": "2024-07-14T16:01:39.936489Z",
     "iopub.status.busy": "2024-07-14T16:01:39.936283Z",
     "iopub.status.idle": "2024-07-14T16:01:44.426548Z",
     "shell.execute_reply": "2024-07-14T16:01:44.425714Z",
     "shell.execute_reply.started": "2024-07-14T16:01:39.936472Z"
    }
   },
   "outputs": [
    {
     "data": {
      "text/plain": [
       "state_code\n",
       "FL     1038\n",
       "TX     1562\n",
       "MA     2020\n",
       "NY     3112\n",
       "CA    10219\n",
       "dtype: int64"
      ]
     },
     "execution_count": 29,
     "metadata": {},
     "output_type": "execute_result"
    }
   ],
   "source": [
    "train_dataset[train_dataset['country_code']=='USA'].groupby(['state_code']).size().sort_values().tail()"
   ]
  },
  {
   "cell_type": "code",
   "execution_count": 30,
   "metadata": {
    "execution": {
     "iopub.execute_input": "2024-07-14T16:01:44.427531Z",
     "iopub.status.busy": "2024-07-14T16:01:44.427322Z",
     "iopub.status.idle": "2024-07-14T16:01:45.229844Z",
     "shell.execute_reply": "2024-07-14T16:01:45.229287Z",
     "shell.execute_reply.started": "2024-07-14T16:01:44.427514Z"
    }
   },
   "outputs": [
    {
     "data": {
      "text/plain": [
       "state_code  city         \n",
       "CA          Mountain View     463\n",
       "            San Diego         480\n",
       "MA          Boston            504\n",
       "IL          Chicago           546\n",
       "WA          Seattle           592\n",
       "CA          Los Angeles       603\n",
       "            Palo Alto         607\n",
       "TX          Austin            608\n",
       "NY          New York         2485\n",
       "CA          San Francisco    2824\n",
       "dtype: int64"
      ]
     },
     "execution_count": 30,
     "metadata": {},
     "output_type": "execute_result"
    }
   ],
   "source": [
    "train_dataset[(train_dataset['country_code']=='USA')].groupby(['state_code','city']).size().sort_values().tail(10)"
   ]
  },
  {
   "cell_type": "markdown",
   "metadata": {},
   "source": [
    "На основе частотного спарвочника стран (подготовлен заранее) сгруппируем страны по их региону/группе стран. Помимо этого, так как на США приходится более половины наблюдений, для США дополнительно выделим крупнейшие штаты, а также крупнейший город."
   ]
  },
  {
   "cell_type": "code",
   "execution_count": 31,
   "metadata": {
    "execution": {
     "iopub.execute_input": "2024-07-14T16:01:45.231039Z",
     "iopub.status.busy": "2024-07-14T16:01:45.230677Z",
     "iopub.status.idle": "2024-07-14T16:01:46.195739Z",
     "shell.execute_reply": "2024-07-14T16:01:46.195145Z",
     "shell.execute_reply.started": "2024-07-14T16:01:45.231011Z"
    }
   },
   "outputs": [],
   "source": [
    "# Загрузим предподготовленный справочник стран и регионов\n",
    "country_dict = pd.read_csv('country_dict.csv').set_index('Country')['Country_group'].to_dict()"
   ]
  },
  {
   "cell_type": "code",
   "execution_count": 32,
   "metadata": {
    "execution": {
     "iopub.execute_input": "2024-07-14T16:01:46.196704Z",
     "iopub.status.busy": "2024-07-14T16:01:46.196502Z",
     "iopub.status.idle": "2024-07-14T16:01:46.928740Z",
     "shell.execute_reply": "2024-07-14T16:01:46.928201Z",
     "shell.execute_reply.started": "2024-07-14T16:01:46.196687Z"
    }
   },
   "outputs": [],
   "source": [
    "train_dataset['country_group'] = train_dataset['country_code'].apply(lambda x: country_dict.get(x, 'Other'))\n"
   ]
  },
  {
   "cell_type": "code",
   "execution_count": 33,
   "metadata": {
    "execution": {
     "iopub.execute_input": "2024-07-14T16:01:46.929724Z",
     "iopub.status.busy": "2024-07-14T16:01:46.929473Z",
     "iopub.status.idle": "2024-07-14T16:01:47.225296Z",
     "shell.execute_reply": "2024-07-14T16:01:47.224306Z",
     "shell.execute_reply.started": "2024-07-14T16:01:46.929707Z"
    }
   },
   "outputs": [],
   "source": [
    "#Дополнительно разделим США\n",
    "x = train_dataset[train_dataset['country_group']=='USA']\n",
    "train_dataset.loc[train_dataset['country_group']=='USA','country_group'] = np.where(x['state_code']=='CA','USA-CA',\n",
    "                                                                                np.where(x['state_code']=='NY','USA-NY',\n",
    "                                                                                        np.where(x['state_code']=='MA','USA-MA',\n",
    "                                                                                                np.where(x['state_code']=='TX','USA-TX','USA-other'))))\n",
    "\n",
    "train_dataset.loc[(train_dataset['country_group']=='USA-CA')&(train_dataset['city']=='San Francisco'),'country_group'] = 'USA-SF'"
   ]
  },
  {
   "cell_type": "code",
   "execution_count": 34,
   "metadata": {
    "execution": {
     "iopub.execute_input": "2024-07-14T16:01:47.226681Z",
     "iopub.status.busy": "2024-07-14T16:01:47.226383Z",
     "iopub.status.idle": "2024-07-14T16:01:47.400513Z",
     "shell.execute_reply": "2024-07-14T16:01:47.399786Z",
     "shell.execute_reply.started": "2024-07-14T16:01:47.226662Z"
    }
   },
   "outputs": [
    {
     "data": {
      "text/html": [
       "<div>\n",
       "<style scoped>\n",
       "    .dataframe tbody tr th:only-of-type {\n",
       "        vertical-align: middle;\n",
       "    }\n",
       "\n",
       "    .dataframe tbody tr th {\n",
       "        vertical-align: top;\n",
       "    }\n",
       "\n",
       "    .dataframe thead th {\n",
       "        text-align: right;\n",
       "    }\n",
       "</style>\n",
       "<table border=\"1\" class=\"dataframe\">\n",
       "  <thead>\n",
       "    <tr style=\"text-align: right;\">\n",
       "      <th></th>\n",
       "      <th>name</th>\n",
       "      <th>funding_total_usd</th>\n",
       "      <th>status</th>\n",
       "      <th>country_code</th>\n",
       "      <th>state_code</th>\n",
       "      <th>region</th>\n",
       "      <th>city</th>\n",
       "      <th>funding_rounds</th>\n",
       "      <th>lifetime</th>\n",
       "      <th>first_funding_year</th>\n",
       "      <th>category_subs</th>\n",
       "      <th>country_group</th>\n",
       "    </tr>\n",
       "  </thead>\n",
       "  <tbody>\n",
       "    <tr>\n",
       "      <th>0</th>\n",
       "      <td>Lunchgate</td>\n",
       "      <td>828626.0</td>\n",
       "      <td>operating</td>\n",
       "      <td>CHE</td>\n",
       "      <td>25</td>\n",
       "      <td>Zurich</td>\n",
       "      <td>Zürich</td>\n",
       "      <td>2</td>\n",
       "      <td>2998</td>\n",
       "      <td>2011</td>\n",
       "      <td>Entertainment</td>\n",
       "      <td>Other_Europe</td>\n",
       "    </tr>\n",
       "    <tr>\n",
       "      <th>1</th>\n",
       "      <td>EarLens</td>\n",
       "      <td>42935019.0</td>\n",
       "      <td>operating</td>\n",
       "      <td>USA</td>\n",
       "      <td>CA</td>\n",
       "      <td>SF Bay Area</td>\n",
       "      <td>Redwood City</td>\n",
       "      <td>4</td>\n",
       "      <td>4748</td>\n",
       "      <td>2010</td>\n",
       "      <td>Manufacturing</td>\n",
       "      <td>USA-CA</td>\n",
       "    </tr>\n",
       "    <tr>\n",
       "      <th>2</th>\n",
       "      <td>Reviva Pharmaceuticals</td>\n",
       "      <td>35456381.0</td>\n",
       "      <td>operating</td>\n",
       "      <td>USA</td>\n",
       "      <td>CA</td>\n",
       "      <td>SF Bay Area</td>\n",
       "      <td>San Jose</td>\n",
       "      <td>3</td>\n",
       "      <td>4383</td>\n",
       "      <td>2012</td>\n",
       "      <td>Biotechnology</td>\n",
       "      <td>USA-CA</td>\n",
       "    </tr>\n",
       "    <tr>\n",
       "      <th>3</th>\n",
       "      <td>Sancilio and Company</td>\n",
       "      <td>22250000.0</td>\n",
       "      <td>operating</td>\n",
       "      <td>NaN</td>\n",
       "      <td>NaN</td>\n",
       "      <td>NaN</td>\n",
       "      <td>NaN</td>\n",
       "      <td>3</td>\n",
       "      <td>5114</td>\n",
       "      <td>2011</td>\n",
       "      <td>Health Care</td>\n",
       "      <td>Other</td>\n",
       "    </tr>\n",
       "    <tr>\n",
       "      <th>4</th>\n",
       "      <td>WireTough Cylinders</td>\n",
       "      <td>NaN</td>\n",
       "      <td>operating</td>\n",
       "      <td>USA</td>\n",
       "      <td>VA</td>\n",
       "      <td>VA - Other</td>\n",
       "      <td>Bristol</td>\n",
       "      <td>1</td>\n",
       "      <td>2791</td>\n",
       "      <td>2012</td>\n",
       "      <td>Manufacturing</td>\n",
       "      <td>USA-other</td>\n",
       "    </tr>\n",
       "  </tbody>\n",
       "</table>\n",
       "</div>"
      ],
      "text/plain": [
       "                     name  funding_total_usd     status country_code  \\\n",
       "0               Lunchgate           828626.0  operating          CHE   \n",
       "1                 EarLens         42935019.0  operating          USA   \n",
       "2  Reviva Pharmaceuticals         35456381.0  operating          USA   \n",
       "3    Sancilio and Company         22250000.0  operating          NaN   \n",
       "4     WireTough Cylinders                NaN  operating          USA   \n",
       "\n",
       "  state_code       region          city  funding_rounds  lifetime  \\\n",
       "0         25       Zurich        Zürich               2      2998   \n",
       "1         CA  SF Bay Area  Redwood City               4      4748   \n",
       "2         CA  SF Bay Area      San Jose               3      4383   \n",
       "3        NaN          NaN           NaN               3      5114   \n",
       "4         VA   VA - Other       Bristol               1      2791   \n",
       "\n",
       "   first_funding_year  category_subs country_group  \n",
       "0                2011  Entertainment  Other_Europe  \n",
       "1                2010  Manufacturing        USA-CA  \n",
       "2                2012  Biotechnology        USA-CA  \n",
       "3                2011    Health Care         Other  \n",
       "4                2012  Manufacturing     USA-other  "
      ]
     },
     "execution_count": 34,
     "metadata": {},
     "output_type": "execute_result"
    }
   ],
   "source": [
    "train_dataset.head()"
   ]
  },
  {
   "cell_type": "code",
   "execution_count": 35,
   "metadata": {
    "execution": {
     "iopub.execute_input": "2024-07-14T16:01:47.401669Z",
     "iopub.status.busy": "2024-07-14T16:01:47.401408Z",
     "iopub.status.idle": "2024-07-14T16:01:47.841950Z",
     "shell.execute_reply": "2024-07-14T16:01:47.841489Z",
     "shell.execute_reply.started": "2024-07-14T16:01:47.401652Z"
    }
   },
   "outputs": [
    {
     "data": {
      "text/plain": [
       "USA-other       12789\n",
       "USA-CA           7395\n",
       "Non_US_G7        6850\n",
       "Other            5873\n",
       "Other_Europe     4510\n",
       "Asia             3686\n",
       "USA-NY           3112\n",
       "USA-SF           2824\n",
       "USA-MA           2020\n",
       "USA-TX           1562\n",
       "LATAM             978\n",
       "MENA              917\n",
       "Name: country_group, dtype: int64"
      ]
     },
     "execution_count": 35,
     "metadata": {},
     "output_type": "execute_result"
    }
   ],
   "source": [
    "train_dataset.country_group.value_counts()"
   ]
  },
  {
   "cell_type": "code",
   "execution_count": 36,
   "metadata": {
    "execution": {
     "iopub.execute_input": "2024-07-14T16:01:47.842835Z",
     "iopub.status.busy": "2024-07-14T16:01:47.842610Z",
     "iopub.status.idle": "2024-07-14T16:01:48.212151Z",
     "shell.execute_reply": "2024-07-14T16:01:48.211431Z",
     "shell.execute_reply.started": "2024-07-14T16:01:47.842820Z"
    }
   },
   "outputs": [],
   "source": [
    "train_dataset = train_dataset.drop(['country_code','state_code','region','city'], axis = 1)"
   ]
  },
  {
   "cell_type": "markdown",
   "metadata": {},
   "source": [
    "Повторим преобразование для тестовой выборки"
   ]
  },
  {
   "cell_type": "code",
   "execution_count": 37,
   "metadata": {
    "execution": {
     "iopub.execute_input": "2024-07-14T16:01:48.213780Z",
     "iopub.status.busy": "2024-07-14T16:01:48.213230Z",
     "iopub.status.idle": "2024-07-14T16:01:48.670605Z",
     "shell.execute_reply": "2024-07-14T16:01:48.669842Z",
     "shell.execute_reply.started": "2024-07-14T16:01:48.213750Z"
    }
   },
   "outputs": [],
   "source": [
    "test_dataset['country_group'] = test_dataset['country_code'].apply(lambda x: country_dict.get(x, 'Other'))\n",
    "\n",
    "#Дополнительно разделим США\n",
    "x = test_dataset[test_dataset['country_group']=='USA']\n",
    "test_dataset.loc[test_dataset['country_group']=='USA','country_group'] = np.where(x['state_code']=='CA','USA-CA',\n",
    "                                                                                np.where(x['state_code']=='NY','USA-NY',\n",
    "                                                                                        np.where(x['state_code']=='MA','USA-MA',\n",
    "                                                                                                np.where(x['state_code']=='TX','USA-TX','USA-other'))))\n",
    "\n",
    "test_dataset.loc[(test_dataset['country_group']=='USA-CA')&(test_dataset['city']=='San Francisco'),'country_group'] = 'USA-SF'\n",
    "\n",
    "test_dataset = test_dataset.drop(['country_code','state_code','region','city'], axis = 1)"
   ]
  },
  {
   "cell_type": "markdown",
   "metadata": {},
   "source": [
    "## Заполнение переменной funding_total_usd"
   ]
  },
  {
   "cell_type": "markdown",
   "metadata": {},
   "source": [
    "Рассмотрим распределение переменной funding_total_usd"
   ]
  },
  {
   "cell_type": "code",
   "execution_count": 38,
   "metadata": {
    "execution": {
     "iopub.execute_input": "2024-07-14T16:01:48.672040Z",
     "iopub.status.busy": "2024-07-14T16:01:48.671691Z",
     "iopub.status.idle": "2024-07-14T16:01:49.461203Z",
     "shell.execute_reply": "2024-07-14T16:01:49.460432Z",
     "shell.execute_reply.started": "2024-07-14T16:01:48.672015Z"
    }
   },
   "outputs": [
    {
     "data": {
      "text/plain": [
       "<Axes: >"
      ]
     },
     "execution_count": 38,
     "metadata": {},
     "output_type": "execute_result"
    },
    {
     "data": {
      "image/png": "[encoded data removed]",
      "text/plain": [
       "<Figure size 640x480 with 1 Axes>"
      ]
     },
     "metadata": {},
     "output_type": "display_data"
    }
   ],
   "source": [
    "train_dataset['funding_total_usd'].plot.box()"
   ]
  },
  {
   "cell_type": "markdown",
   "metadata": {},
   "source": [
    "Мы явно видим, что в переменной присутсвтует большое количество выбросов. Для того, чтобы более наглядно "
   ]
  },
  {
   "cell_type": "code",
   "execution_count": 39,
   "metadata": {
    "execution": {
     "iopub.execute_input": "2024-07-14T16:01:49.462997Z",
     "iopub.status.busy": "2024-07-14T16:01:49.462703Z",
     "iopub.status.idle": "2024-07-14T16:01:50.152577Z",
     "shell.execute_reply": "2024-07-14T16:01:50.151908Z",
     "shell.execute_reply.started": "2024-07-14T16:01:49.462973Z"
    }
   },
   "outputs": [
    {
     "data": {
      "image/png": "[encoded data removed]",
      "text/plain": [
       "<Figure size 1000x600 with 1 Axes>"
      ]
     },
     "metadata": {},
     "output_type": "display_data"
    }
   ],
   "source": [
    "percentiles = np.arange(0, 100.5, 0.5)\n",
    "values_at_percentiles = np.percentile(train_dataset['funding_total_usd'].dropna(), percentiles)\n",
    "\n",
    "# Построение графика. Для лучшей репрезентативности посмотрим на логарифмы суммарных инвестиций\n",
    "plt.figure(figsize=(10, 6))\n",
    "plt.plot(percentiles, np.log(values_at_percentiles), marker='o', linestyle='-')\n",
    "plt.xlabel('Персентиль')\n",
    "plt.ylabel('Лог(Значение)')\n",
    "plt.title('Персентили стартапов по суммарному фондированию ')\n",
    "plt.grid(True)\n",
    "plt.show()"
   ]
  },
  {
   "cell_type": "markdown",
   "metadata": {},
   "source": [
    "Даже в в логарифмах мы видим огромный выброс на первых и последних 0.5% выборки - обработаем такие наблюдения.\n",
    "\n",
    "В качестве обработки предлагаем не удалять такие значения, а привести их к значению 0.5 и 99.5 персентиля соответсвтенно - с точки зрения информации для модели и важности признака это все так же остануться стартапы с низким/высоким значением фондирования, однако ошибка на них не должна так критично отразиться на функции потерь."
   ]
  },
  {
   "cell_type": "code",
   "execution_count": 40,
   "metadata": {
    "execution": {
     "iopub.execute_input": "2024-07-14T16:01:50.153867Z",
     "iopub.status.busy": "2024-07-14T16:01:50.153564Z",
     "iopub.status.idle": "2024-07-14T16:01:50.460415Z",
     "shell.execute_reply": "2024-07-14T16:01:50.459732Z",
     "shell.execute_reply.started": "2024-07-14T16:01:50.153837Z"
    }
   },
   "outputs": [],
   "source": [
    "train_dataset['funding_total_usd'] = train_dataset['funding_total_usd'].clip(upper=np.percentile(train_dataset['funding_total_usd'].dropna(),99.5))\n",
    "train_dataset['funding_total_usd'] = train_dataset['funding_total_usd'].clip(np.percentile(train_dataset['funding_total_usd'].dropna(),0.5))"
   ]
  },
  {
   "cell_type": "markdown",
   "metadata": {},
   "source": [
    "Сохраним медианные значения для соответствующего региона и индустрии для того, чтобы в дальнейшем заполнить ими данные из тестовой выборки."
   ]
  },
  {
   "cell_type": "code",
   "execution_count": 41,
   "metadata": {
    "execution": {
     "iopub.execute_input": "2024-07-14T16:01:50.461710Z",
     "iopub.status.busy": "2024-07-14T16:01:50.461416Z",
     "iopub.status.idle": "2024-07-14T16:01:51.160622Z",
     "shell.execute_reply": "2024-07-14T16:01:51.159793Z",
     "shell.execute_reply.started": "2024-07-14T16:01:50.461685Z"
    }
   },
   "outputs": [],
   "source": [
    "funding_dict = dict(train_dataset.groupby(['category_subs','country_group'])['funding_total_usd'].median())"
   ]
  },
  {
   "cell_type": "markdown",
   "metadata": {},
   "source": [
    "В обучающем датасете пропущено порядка 20% переменной funding_total_usd. Кажется, что заполнение такого большого количества пропусков может значительно исказить распределение переменной. Попробуем не учитывать пропущенные наблюдения при обучении модели, и без того обучающая выборка имеет достаточно большой размер (более 40000 наблюдений). Убедиться в такой предпосылке можно будет после проверки на валидационном наборе данных."
   ]
  },
  {
   "cell_type": "code",
   "execution_count": 42,
   "metadata": {
    "execution": {
     "iopub.execute_input": "2024-07-14T16:01:51.161946Z",
     "iopub.status.busy": "2024-07-14T16:01:51.161665Z",
     "iopub.status.idle": "2024-07-14T16:01:51.750612Z",
     "shell.execute_reply": "2024-07-14T16:01:51.749865Z",
     "shell.execute_reply.started": "2024-07-14T16:01:51.161924Z"
    }
   },
   "outputs": [],
   "source": [
    "train_dataset['funding_total_usd_filled'] = train_dataset['funding_total_usd']\n",
    "\n",
    "train_dataset = train_dataset.dropna(subset='funding_total_usd_filled')"
   ]
  },
  {
   "cell_type": "markdown",
   "metadata": {},
   "source": [
    "Повторим преобразование для тестовой выборки"
   ]
  },
  {
   "cell_type": "code",
   "execution_count": 43,
   "metadata": {
    "execution": {
     "iopub.execute_input": "2024-07-14T16:01:51.751999Z",
     "iopub.status.busy": "2024-07-14T16:01:51.751730Z",
     "iopub.status.idle": "2024-07-14T16:01:52.789747Z",
     "shell.execute_reply": "2024-07-14T16:01:52.788872Z",
     "shell.execute_reply.started": "2024-07-14T16:01:51.751976Z"
    }
   },
   "outputs": [],
   "source": [
    "test_dataset['funding_total_usd_filled'] = test_dataset['funding_total_usd']\n",
    "\n",
    "for i in test_dataset[test_dataset.funding_total_usd.isna()].index:\n",
    "    test_dataset.loc[i,'funding_total_usd_filled'] = funding_dict.get((test_dataset.loc[i,'category_subs'],\n",
    "                                                                       test_dataset.loc[i,'country_group']))"
   ]
  },
  {
   "cell_type": "markdown",
   "metadata": {},
   "source": [
    "## Анализ входных признаков модели"
   ]
  },
  {
   "cell_type": "markdown",
   "metadata": {},
   "source": [
    "После всех преобразований построим еще раз матрицу корреляций"
   ]
  },
  {
   "cell_type": "code",
   "execution_count": 44,
   "metadata": {
    "execution": {
     "iopub.execute_input": "2024-07-14T16:01:52.791142Z",
     "iopub.status.busy": "2024-07-14T16:01:52.790844Z",
     "iopub.status.idle": "2024-07-14T16:01:53.869500Z",
     "shell.execute_reply": "2024-07-14T16:01:53.868707Z",
     "shell.execute_reply.started": "2024-07-14T16:01:52.791123Z"
    }
   },
   "outputs": [
    {
     "data": {
      "image/png": "[encoded data removed]",
      "text/plain": [
       "<Figure size 800x600 with 2 Axes>"
      ]
     },
     "metadata": {},
     "output_type": "display_data"
    }
   ],
   "source": [
    "phik= train_dataset.drop('name',axis=1)#.sample(3000)\n",
    "\n",
    "plt.figure(figsize = (8,6))\n",
    "sns.heatmap(phik.phik_matrix(interval_cols=['funding_total_usd','funding_total_usd_filled', 'funding_rounds', 'funding_period',\n",
    "                                            'lifetime','funding_total_usd_filled']),\n",
    "            annot = True,cmap='coolwarm')\n",
    "plt.title('Матрица корреляций')\n",
    "\n",
    "plt.tight_layout()\n",
    "plt.show()"
   ]
  },
  {
   "cell_type": "markdown",
   "metadata": {},
   "source": [
    "Мы видим, что кроме переменной lifetime ну у одной переменной нет заметной корреляции с целевой переменной.  \n",
    "Причина может быть в том, как мы обрабатывали данные и заполняли пропуски, а также в наличии нелинейных связей.\n",
    "Тем не менее, корреляции с переменными, отвечающими за категорию стартапа, а также за его страну, выросли.\n",
    "Попробуем создать новые переменные и проверить корреляции еще раз."
   ]
  },
  {
   "cell_type": "markdown",
   "metadata": {
    "execution": {
     "iopub.execute_input": "2024-07-14T15:36:24.011183Z",
     "iopub.status.busy": "2024-07-14T15:36:24.010976Z",
     "iopub.status.idle": "2024-07-14T15:36:25.054277Z",
     "shell.execute_reply": "2024-07-14T15:36:25.053552Z",
     "shell.execute_reply.started": "2024-07-14T15:36:24.011167Z"
    }
   },
   "source": [
    "Посмотрим на распределение срока жизни стартапа с разбиением по целевой переменной."
   ]
  },
  {
   "cell_type": "code",
   "execution_count": 45,
   "metadata": {
    "execution": {
     "iopub.execute_input": "2024-07-14T16:01:53.870968Z",
     "iopub.status.busy": "2024-07-14T16:01:53.870547Z",
     "iopub.status.idle": "2024-07-14T16:01:55.722604Z",
     "shell.execute_reply": "2024-07-14T16:01:55.721767Z",
     "shell.execute_reply.started": "2024-07-14T16:01:53.870938Z"
    }
   },
   "outputs": [
    {
     "name": "stdout",
     "output_type": "stream",
     "text": [
      "1357.0\n"
     ]
    },
    {
     "data": {
      "text/plain": [
       "<matplotlib.lines.Line2D at 0x7f8a27f62380>"
      ]
     },
     "execution_count": 45,
     "metadata": {},
     "output_type": "execute_result"
    },
    {
     "data": {
      "image/png": "[encoded data removed]",
      "text/plain": [
       "<Figure size 617.25x500 with 1 Axes>"
      ]
     },
     "metadata": {},
     "output_type": "display_data"
    }
   ],
   "source": [
    "sns.displot(data = train_dataset, x  = 'lifetime', hue = 'status', kind = 'kde')\n",
    "\n",
    "print(np.percentile(train_dataset[train_dataset['status']=='closed']['lifetime'],70))\n",
    "plt.axvline(1100, color = 'red')"
   ]
  },
  {
   "cell_type": "markdown",
   "metadata": {},
   "source": [
    "мы видим, что большинство закрывшихся стартапов сконцентрированы в области низких значений lifetime (условно меньше 3 лет) - выделим их в отдельную категорию."
   ]
  },
  {
   "cell_type": "code",
   "execution_count": 46,
   "metadata": {
    "execution": {
     "iopub.execute_input": "2024-07-14T16:01:55.724521Z",
     "iopub.status.busy": "2024-07-14T16:01:55.723833Z",
     "iopub.status.idle": "2024-07-14T16:01:55.737429Z",
     "shell.execute_reply": "2024-07-14T16:01:55.736916Z",
     "shell.execute_reply.started": "2024-07-14T16:01:55.724489Z"
    }
   },
   "outputs": [
    {
     "data": {
      "text/plain": [
       ">3Y+    39618\n",
       "<3 Y     2829\n",
       "Name: lifetime_cat, dtype: int64"
      ]
     },
     "execution_count": 46,
     "metadata": {},
     "output_type": "execute_result"
    }
   ],
   "source": [
    "train_dataset['lifetime_cat'] = np.where(train_dataset['lifetime'] < 1100,'<3 Y','>3Y+')\n",
    "                                         \n",
    "train_dataset['lifetime_cat'].value_counts()"
   ]
  },
  {
   "cell_type": "markdown",
   "metadata": {},
   "source": [
    "Рассмотрим переменную funding_rounds."
   ]
  },
  {
   "cell_type": "code",
   "execution_count": 47,
   "metadata": {
    "execution": {
     "iopub.execute_input": "2024-07-14T16:01:55.738458Z",
     "iopub.status.busy": "2024-07-14T16:01:55.738189Z",
     "iopub.status.idle": "2024-07-14T16:02:01.382857Z",
     "shell.execute_reply": "2024-07-14T16:02:01.382276Z",
     "shell.execute_reply.started": "2024-07-14T16:01:55.738441Z"
    }
   },
   "outputs": [
    {
     "data": {
      "text/plain": [
       "1     24300\n",
       "2      9110\n",
       "3      4329\n",
       "4      2153\n",
       "5      1160\n",
       "6       613\n",
       "7       339\n",
       "8       174\n",
       "9       108\n",
       "10       61\n",
       "11       46\n",
       "12       22\n",
       "13        9\n",
       "16        6\n",
       "15        5\n",
       "14        5\n",
       "17        3\n",
       "18        3\n",
       "19        1\n",
       "Name: funding_rounds, dtype: int64"
      ]
     },
     "execution_count": 47,
     "metadata": {},
     "output_type": "execute_result"
    }
   ],
   "source": [
    "train_dataset['funding_rounds'].value_counts()"
   ]
  },
  {
   "cell_type": "markdown",
   "metadata": {},
   "source": [
    "Видим, что группы крайне неравномерны. Стартапов, получивших финансирование больше 5 раз в целом не очень много, объединим их в одну категорию."
   ]
  },
  {
   "cell_type": "code",
   "execution_count": 48,
   "metadata": {
    "execution": {
     "iopub.execute_input": "2024-07-14T16:02:01.383851Z",
     "iopub.status.busy": "2024-07-14T16:02:01.383587Z",
     "iopub.status.idle": "2024-07-14T16:02:04.233311Z",
     "shell.execute_reply": "2024-07-14T16:02:04.232641Z",
     "shell.execute_reply.started": "2024-07-14T16:02:01.383833Z"
    }
   },
   "outputs": [
    {
     "data": {
      "text/plain": [
       "1     24300\n",
       "2      9110\n",
       "3      4329\n",
       "4      2153\n",
       "5+     1395\n",
       "5      1160\n",
       "Name: funding_rounds_cat, dtype: int64"
      ]
     },
     "execution_count": 48,
     "metadata": {},
     "output_type": "execute_result"
    }
   ],
   "source": [
    "# Попробуем учесть нелинейность в количестве раундов фондирования - разобъем на группы\n",
    "train_dataset['funding_rounds_cat'] = np.where(train_dataset['funding_rounds']==1,'1',\n",
    "                                              np.where(train_dataset['funding_rounds'] ==2,'2',\n",
    "                                                      np.where(train_dataset['funding_rounds']==3,'3',\n",
    "                                                              np.where(train_dataset['funding_rounds']==4,'4',\n",
    "                                                                      np.where(train_dataset['funding_rounds']==5,'5', '5+')))))\n",
    "train_dataset['funding_rounds_cat'].value_counts()"
   ]
  },
  {
   "cell_type": "markdown",
   "metadata": {},
   "source": [
    "Повторно построим матрицу корреляций."
   ]
  },
  {
   "cell_type": "code",
   "execution_count": 49,
   "metadata": {
    "execution": {
     "iopub.execute_input": "2024-07-14T16:02:04.234946Z",
     "iopub.status.busy": "2024-07-14T16:02:04.234361Z",
     "iopub.status.idle": "2024-07-14T16:02:07.925814Z",
     "shell.execute_reply": "2024-07-14T16:02:07.925207Z",
     "shell.execute_reply.started": "2024-07-14T16:02:04.234909Z"
    }
   },
   "outputs": [
    {
     "data": {
      "image/png": "[encoded data removed]",
      "text/plain": [
       "<Figure size 1000x600 with 2 Axes>"
      ]
     },
     "metadata": {},
     "output_type": "display_data"
    }
   ],
   "source": [
    "phik= train_dataset.drop('name',axis=1)\n",
    "plt.figure(figsize = (10,6))\n",
    "sns.heatmap(phik.phik_matrix(interval_cols=['funding_total_usd','funding_total_usd_log', 'funding_rounds',\n",
    "                                            'funding_period', 'lifetime','fund_per_round',\n",
    "                                           'log_lifetime','funding_total_usd_filled_log','funding_total_usd_filled']),\n",
    "            annot = True,cmap='coolwarm')\n",
    "plt.title('Матрица корреляций')\n",
    "\n",
    "plt.tight_layout()\n",
    "plt.show()"
   ]
  },
  {
   "cell_type": "markdown",
   "metadata": {},
   "source": [
    "Мы видим, что у преобразованных переменных относительно неплохая корреляция с таргетов (funding_rounds_cat > funding_rounds). Кроме того, разделенная на категории ligetime имеет крайне сильную корреляцию в таргетом. При средней корреляции с исходной lifetime мы можем оставить обе переменные."
   ]
  },
  {
   "cell_type": "markdown",
   "metadata": {},
   "source": [
    "Повторим преобразования для тестовой выборки."
   ]
  },
  {
   "cell_type": "code",
   "execution_count": 50,
   "metadata": {
    "execution": {
     "iopub.execute_input": "2024-07-14T16:02:07.926869Z",
     "iopub.status.busy": "2024-07-14T16:02:07.926606Z",
     "iopub.status.idle": "2024-07-14T16:02:07.934041Z",
     "shell.execute_reply": "2024-07-14T16:02:07.933524Z",
     "shell.execute_reply.started": "2024-07-14T16:02:07.926851Z"
    }
   },
   "outputs": [],
   "source": [
    "test_dataset['lifetime_cat'] = np.where(test_dataset['lifetime'] < 1100,'<3 Y','>3Y+')\n",
    "\n",
    "test_dataset['funding_rounds_cat'] = np.where(test_dataset['funding_rounds']==1,'1',\n",
    "                                              np.where(test_dataset['funding_rounds'] ==2,'2',\n",
    "                                                      np.where(test_dataset['funding_rounds']==3,'3',\n",
    "                                                              np.where(test_dataset['funding_rounds']==4,'4',\n",
    "                                                                      np.where(test_dataset['funding_rounds']==5,'5', '5+')))))"
   ]
  },
  {
   "cell_type": "markdown",
   "metadata": {},
   "source": [
    "## Подготовка пайплайна для поиска оптимальной модели классификации"
   ]
  },
  {
   "cell_type": "markdown",
   "metadata": {},
   "source": [
    "На основе предварительного анализ, следующие переменные попадут в итоговый датасет для поиска оптимальной модели:  \n",
    "'category_subs', 'country_group', 'funding_total_usd_filled','funding_rounds_cat', 'lifetime','first_funding_year','lifetime_cat'\n"
   ]
  },
  {
   "cell_type": "code",
   "execution_count": 51,
   "metadata": {
    "execution": {
     "iopub.execute_input": "2024-07-14T16:02:07.934975Z",
     "iopub.status.busy": "2024-07-14T16:02:07.934734Z",
     "iopub.status.idle": "2024-07-14T16:02:08.515783Z",
     "shell.execute_reply": "2024-07-14T16:02:08.515191Z",
     "shell.execute_reply.started": "2024-07-14T16:02:07.934958Z"
    }
   },
   "outputs": [],
   "source": [
    "train_dataset = train_dataset[['name', 'status',\n",
    "       'category_subs', 'country_group', 'funding_total_usd_filled',\n",
    "       'funding_rounds_cat', 'lifetime','first_funding_year','lifetime_cat']]"
   ]
  },
  {
   "cell_type": "code",
   "execution_count": 52,
   "metadata": {
    "execution": {
     "iopub.execute_input": "2024-07-14T16:02:08.516881Z",
     "iopub.status.busy": "2024-07-14T16:02:08.516592Z",
     "iopub.status.idle": "2024-07-14T16:02:09.068299Z",
     "shell.execute_reply": "2024-07-14T16:02:09.067529Z",
     "shell.execute_reply.started": "2024-07-14T16:02:08.516863Z"
    }
   },
   "outputs": [],
   "source": [
    "# Определим группы переменных\n",
    "\n",
    "ohe_columns = ['country_group','category_subs','lifetime_cat']\n",
    "ord_columns = ['funding_rounds_cat']\n",
    "num_columns = ['funding_total_usd_filled','lifetime','first_funding_year']"
   ]
  },
  {
   "cell_type": "code",
   "execution_count": 53,
   "metadata": {
    "execution": {
     "iopub.execute_input": "2024-07-14T16:02:09.069403Z",
     "iopub.status.busy": "2024-07-14T16:02:09.069128Z",
     "iopub.status.idle": "2024-07-14T16:02:09.901034Z",
     "shell.execute_reply": "2024-07-14T16:02:09.900212Z",
     "shell.execute_reply.started": "2024-07-14T16:02:09.069385Z"
    }
   },
   "outputs": [],
   "source": [
    "ohe_pipe = Pipeline(\n",
    "    [\n",
    "        (\n",
    "            'ohe_enc', \n",
    "            OneHotEncoder(drop='first', handle_unknown='ignore', sparse_output=False)\n",
    "        )\n",
    "    ]\n",
    ")\n",
    "\n",
    "ordinal_pipe = Pipeline(\n",
    "    [\n",
    "        ('simpleImputer_ordinal_before', \n",
    "         SimpleImputer(missing_values=np.nan,strategy='most_frequent')),\n",
    "        ('ordinal_enc', OrdinalEncoder(handle_unknown='use_encoded_value',\n",
    "                                  unknown_value=-1,\n",
    "                                  categories = [['1','2','3','4','5','5+']])),\n",
    "        ('simpleImputer_ordinal_after', \n",
    "         SimpleImputer(missing_values=np.nan,strategy='most_frequent'))\n",
    "    ]\n",
    ")"
   ]
  },
  {
   "cell_type": "code",
   "execution_count": 54,
   "metadata": {
    "execution": {
     "iopub.execute_input": "2024-07-14T16:02:09.902438Z",
     "iopub.status.busy": "2024-07-14T16:02:09.902080Z",
     "iopub.status.idle": "2024-07-14T16:02:10.540282Z",
     "shell.execute_reply": "2024-07-14T16:02:10.539540Z",
     "shell.execute_reply.started": "2024-07-14T16:02:09.902403Z"
    }
   },
   "outputs": [],
   "source": [
    "data_preprocessor = ColumnTransformer(\n",
    "    transformers= [\n",
    "       ('ohe', ohe_pipe, ohe_columns),\n",
    "       ('ord', ordinal_pipe, ord_columns),\n",
    "       ('num', StandardScaler(), num_columns)\n",
    "    ], \n",
    "    remainder='passthrough'\n",
    ") "
   ]
  },
  {
   "cell_type": "code",
   "execution_count": 55,
   "metadata": {
    "execution": {
     "iopub.execute_input": "2024-07-14T16:02:10.541375Z",
     "iopub.status.busy": "2024-07-14T16:02:10.541109Z",
     "iopub.status.idle": "2024-07-14T16:02:11.204260Z",
     "shell.execute_reply": "2024-07-14T16:02:11.203324Z",
     "shell.execute_reply.started": "2024-07-14T16:02:10.541357Z"
    }
   },
   "outputs": [],
   "source": [
    "# Создадим каркас итогового пайплайна для подбора гиперпараметров и выбора модели. Для старта инициализируем модель логистической регрессии.\n",
    "\n",
    "RANDOM_STATE = 142\n",
    "\n",
    "pipe_final = Pipeline(\n",
    "    [\n",
    "        ('preprocessor', data_preprocessor),\n",
    "        ('models', LogisticRegression(random_state=RANDOM_STATE))\n",
    "    ]\n",
    ")"
   ]
  },
  {
   "cell_type": "code",
   "execution_count": 56,
   "metadata": {
    "execution": {
     "iopub.execute_input": "2024-07-14T16:02:11.205818Z",
     "iopub.status.busy": "2024-07-14T16:02:11.205530Z",
     "iopub.status.idle": "2024-07-14T16:02:12.388756Z",
     "shell.execute_reply": "2024-07-14T16:02:12.388172Z",
     "shell.execute_reply.started": "2024-07-14T16:02:11.205799Z"
    }
   },
   "outputs": [],
   "source": [
    "# Создадим словарь со всеми комбинациями гиперпараметров\n",
    "\n",
    "param_distributions = [\n",
    "    {\n",
    "        'models': [LogisticRegression(random_state=RANDOM_STATE, solver = 'saga',penalty = 'elasticnet', max_iter = 100)],\n",
    "        'models__class_weight':[None,'balanced'],\n",
    "        'models__l1_ratio':[0,0.1,0.25,0.4,0.5,0.6,0.75,0.9,1],      \n",
    "        'models__C':np.linspace(0.1,10,25),\n",
    "        'preprocessor__num': [StandardScaler()]  \n",
    "    },\n",
    "    {\n",
    "        'models': [DecisionTreeClassifier(random_state=RANDOM_STATE)],\n",
    "        'models__class_weight':[None,'balanced'],\n",
    "        'models__max_depth': range(2, 8),\n",
    "        'models__min_samples_split':range(2,4),\n",
    "        'models__min_samples_leaf':range(1,3),\n",
    "        'preprocessor__num': [StandardScaler(),'passthrough']  \n",
    "    },\n",
    "    {\n",
    "        'models': [CatBoostClassifier(verbose=0,random_state=RANDOM_STATE)]\n",
    "        'models__n_estimators': range(2, 30),\n",
    "        'models__depth': range(1, 8),\n",
    "        'models__learning_rate':[0.05,0.1,0.2],\n",
    "        'preprocessor__num': [StandardScaler(), 'passthrough']  \n",
    "    }\n",
    "] "
   ]
  },
  {
   "cell_type": "code",
   "execution_count": 57,
   "metadata": {
    "execution": {
     "iopub.execute_input": "2024-07-14T16:02:12.390192Z",
     "iopub.status.busy": "2024-07-14T16:02:12.389883Z",
     "iopub.status.idle": "2024-07-14T17:09:58.972456Z",
     "shell.execute_reply": "2024-07-14T17:09:58.971496Z",
     "shell.execute_reply.started": "2024-07-14T16:02:12.390173Z"
    }
   },
   "outputs": [
    {
     "name": "stdout",
     "output_type": "stream",
     "text": [
      "CPU times: user 2min 19s, sys: 43.9 s, total: 3min 3s\n",
      "Wall time: 1h 7min 45s\n"
     ]
    },
    {
     "data": {
      "text/html": [
       "<style>#sk-container-id-1 {\n",
       "  /* Definition of color scheme common for light and dark mode */\n",
       "  --sklearn-color-text: black;\n",
       "  --sklearn-color-line: gray;\n",
       "  /* Definition of color scheme for unfitted estimators */\n",
       "  --sklearn-color-unfitted-level-0: #fff5e6;\n",
       "  --sklearn-color-unfitted-level-1: #f6e4d2;\n",
       "  --sklearn-color-unfitted-level-2: #ffe0b3;\n",
       "  --sklearn-color-unfitted-level-3: chocolate;\n",
       "  /* Definition of color scheme for fitted estimators */\n",
       "  --sklearn-color-fitted-level-0: #f0f8ff;\n",
       "  --sklearn-color-fitted-level-1: #d4ebff;\n",
       "  --sklearn-color-fitted-level-2: #b3dbfd;\n",
       "  --sklearn-color-fitted-level-3: cornflowerblue;\n",
       "\n",
       "  /* Specific color for light theme */\n",
       "  --sklearn-color-text-on-default-background: var(--sg-text-color, var(--theme-code-foreground, var(--jp-content-font-color1, black)));\n",
       "  --sklearn-color-background: var(--sg-background-color, var(--theme-background, var(--jp-layout-color0, white)));\n",
       "  --sklearn-color-border-box: var(--sg-text-color, var(--theme-code-foreground, var(--jp-content-font-color1, black)));\n",
       "  --sklearn-color-icon: #696969;\n",
       "\n",
       "  @media (prefers-color-scheme: dark) {\n",
       "    /* Redefinition of color scheme for dark theme */\n",
       "    --sklearn-color-text-on-default-background: var(--sg-text-color, var(--theme-code-foreground, var(--jp-content-font-color1, white)));\n",
       "    --sklearn-color-background: var(--sg-background-color, var(--theme-background, var(--jp-layout-color0, #111)));\n",
       "    --sklearn-color-border-box: var(--sg-text-color, var(--theme-code-foreground, var(--jp-content-font-color1, white)));\n",
       "    --sklearn-color-icon: #878787;\n",
       "  }\n",
       "}\n",
       "\n",
       "#sk-container-id-1 {\n",
       "  color: var(--sklearn-color-text);\n",
       "}\n",
       "\n",
       "#sk-container-id-1 pre {\n",
       "  padding: 0;\n",
       "}\n",
       "\n",
       "#sk-container-id-1 input.sk-hidden--visually {\n",
       "  border: 0;\n",
       "  clip: rect(1px 1px 1px 1px);\n",
       "  clip: rect(1px, 1px, 1px, 1px);\n",
       "  height: 1px;\n",
       "  margin: -1px;\n",
       "  overflow: hidden;\n",
       "  padding: 0;\n",
       "  position: absolute;\n",
       "  width: 1px;\n",
       "}\n",
       "\n",
       "#sk-container-id-1 div.sk-dashed-wrapped {\n",
       "  border: 1px dashed var(--sklearn-color-line);\n",
       "  margin: 0 0.4em 0.5em 0.4em;\n",
       "  box-sizing: border-box;\n",
       "  padding-bottom: 0.4em;\n",
       "  background-color: var(--sklearn-color-background);\n",
       "}\n",
       "\n",
       "#sk-container-id-1 div.sk-container {\n",
       "  /* jupyter's `normalize.less` sets `[hidden] { display: none; }`\n",
       "     but bootstrap.min.css set `[hidden] { display: none !important; }`\n",
       "     so we also need the `!important` here to be able to override the\n",
       "     default hidden behavior on the sphinx rendered scikit-learn.org.\n",
       "     See: https://github.com/scikit-learn/scikit-learn/issues/21755 */\n",
       "  display: inline-block !important;\n",
       "  position: relative;\n",
       "}\n",
       "\n",
       "#sk-container-id-1 div.sk-text-repr-fallback {\n",
       "  display: none;\n",
       "}\n",
       "\n",
       "div.sk-parallel-item,\n",
       "div.sk-serial,\n",
       "div.sk-item {\n",
       "  /* draw centered vertical line to link estimators */\n",
       "  background-image: linear-gradient(var(--sklearn-color-text-on-default-background), var(--sklearn-color-text-on-default-background));\n",
       "  background-size: 2px 100%;\n",
       "  background-repeat: no-repeat;\n",
       "  background-position: center center;\n",
       "}\n",
       "\n",
       "/* Parallel-specific style estimator block */\n",
       "\n",
       "#sk-container-id-1 div.sk-parallel-item::after {\n",
       "  content: \"\";\n",
       "  width: 100%;\n",
       "  border-bottom: 2px solid var(--sklearn-color-text-on-default-background);\n",
       "  flex-grow: 1;\n",
       "}\n",
       "\n",
       "#sk-container-id-1 div.sk-parallel {\n",
       "  display: flex;\n",
       "  align-items: stretch;\n",
       "  justify-content: center;\n",
       "  background-color: var(--sklearn-color-background);\n",
       "  position: relative;\n",
       "}\n",
       "\n",
       "#sk-container-id-1 div.sk-parallel-item {\n",
       "  display: flex;\n",
       "  flex-direction: column;\n",
       "}\n",
       "\n",
       "#sk-container-id-1 div.sk-parallel-item:first-child::after {\n",
       "  align-self: flex-end;\n",
       "  width: 50%;\n",
       "}\n",
       "\n",
       "#sk-container-id-1 div.sk-parallel-item:last-child::after {\n",
       "  align-self: flex-start;\n",
       "  width: 50%;\n",
       "}\n",
       "\n",
       "#sk-container-id-1 div.sk-parallel-item:only-child::after {\n",
       "  width: 0;\n",
       "}\n",
       "\n",
       "/* Serial-specific style estimator block */\n",
       "\n",
       "#sk-container-id-1 div.sk-serial {\n",
       "  display: flex;\n",
       "  flex-direction: column;\n",
       "  align-items: center;\n",
       "  background-color: var(--sklearn-color-background);\n",
       "  padding-right: 1em;\n",
       "  padding-left: 1em;\n",
       "}\n",
       "\n",
       "\n",
       "/* Toggleable style: style used for estimator/Pipeline/ColumnTransformer box that is\n",
       "clickable and can be expanded/collapsed.\n",
       "- Pipeline and ColumnTransformer use this feature and define the default style\n",
       "- Estimators will overwrite some part of the style using the `sk-estimator` class\n",
       "*/\n",
       "\n",
       "/* Pipeline and ColumnTransformer style (default) */\n",
       "\n",
       "#sk-container-id-1 div.sk-toggleable {\n",
       "  /* Default theme specific background. It is overwritten whether we have a\n",
       "  specific estimator or a Pipeline/ColumnTransformer */\n",
       "  background-color: var(--sklearn-color-background);\n",
       "}\n",
       "\n",
       "/* Toggleable label */\n",
       "#sk-container-id-1 label.sk-toggleable__label {\n",
       "  cursor: pointer;\n",
       "  display: block;\n",
       "  width: 100%;\n",
       "  margin-bottom: 0;\n",
       "  padding: 0.5em;\n",
       "  box-sizing: border-box;\n",
       "  text-align: center;\n",
       "}\n",
       "\n",
       "#sk-container-id-1 label.sk-toggleable__label-arrow:before {\n",
       "  /* Arrow on the left of the label */\n",
       "  content: \"▸\";\n",
       "  float: left;\n",
       "  margin-right: 0.25em;\n",
       "  color: var(--sklearn-color-icon);\n",
       "}\n",
       "\n",
       "#sk-container-id-1 label.sk-toggleable__label-arrow:hover:before {\n",
       "  color: var(--sklearn-color-text);\n",
       "}\n",
       "\n",
       "/* Toggleable content - dropdown */\n",
       "\n",
       "#sk-container-id-1 div.sk-toggleable__content {\n",
       "  max-height: 0;\n",
       "  max-width: 0;\n",
       "  overflow: hidden;\n",
       "  text-align: left;\n",
       "  /* unfitted */\n",
       "  background-color: var(--sklearn-color-unfitted-level-0);\n",
       "}\n",
       "\n",
       "#sk-container-id-1 div.sk-toggleable__content.fitted {\n",
       "  /* fitted */\n",
       "  background-color: var(--sklearn-color-fitted-level-0);\n",
       "}\n",
       "\n",
       "#sk-container-id-1 div.sk-toggleable__content pre {\n",
       "  margin: 0.2em;\n",
       "  border-radius: 0.25em;\n",
       "  color: var(--sklearn-color-text);\n",
       "  /* unfitted */\n",
       "  background-color: var(--sklearn-color-unfitted-level-0);\n",
       "}\n",
       "\n",
       "#sk-container-id-1 div.sk-toggleable__content.fitted pre {\n",
       "  /* unfitted */\n",
       "  background-color: var(--sklearn-color-fitted-level-0);\n",
       "}\n",
       "\n",
       "#sk-container-id-1 input.sk-toggleable__control:checked~div.sk-toggleable__content {\n",
       "  /* Expand drop-down */\n",
       "  max-height: 200px;\n",
       "  max-width: 100%;\n",
       "  overflow: auto;\n",
       "}\n",
       "\n",
       "#sk-container-id-1 input.sk-toggleable__control:checked~label.sk-toggleable__label-arrow:before {\n",
       "  content: \"▾\";\n",
       "}\n",
       "\n",
       "/* Pipeline/ColumnTransformer-specific style */\n",
       "\n",
       "#sk-container-id-1 div.sk-label input.sk-toggleable__control:checked~label.sk-toggleable__label {\n",
       "  color: var(--sklearn-color-text);\n",
       "  background-color: var(--sklearn-color-unfitted-level-2);\n",
       "}\n",
       "\n",
       "#sk-container-id-1 div.sk-label.fitted input.sk-toggleable__control:checked~label.sk-toggleable__label {\n",
       "  background-color: var(--sklearn-color-fitted-level-2);\n",
       "}\n",
       "\n",
       "/* Estimator-specific style */\n",
       "\n",
       "/* Colorize estimator box */\n",
       "#sk-container-id-1 div.sk-estimator input.sk-toggleable__control:checked~label.sk-toggleable__label {\n",
       "  /* unfitted */\n",
       "  background-color: var(--sklearn-color-unfitted-level-2);\n",
       "}\n",
       "\n",
       "#sk-container-id-1 div.sk-estimator.fitted input.sk-toggleable__control:checked~label.sk-toggleable__label {\n",
       "  /* fitted */\n",
       "  background-color: var(--sklearn-color-fitted-level-2);\n",
       "}\n",
       "\n",
       "#sk-container-id-1 div.sk-label label.sk-toggleable__label,\n",
       "#sk-container-id-1 div.sk-label label {\n",
       "  /* The background is the default theme color */\n",
       "  color: var(--sklearn-color-text-on-default-background);\n",
       "}\n",
       "\n",
       "/* On hover, darken the color of the background */\n",
       "#sk-container-id-1 div.sk-label:hover label.sk-toggleable__label {\n",
       "  color: var(--sklearn-color-text);\n",
       "  background-color: var(--sklearn-color-unfitted-level-2);\n",
       "}\n",
       "\n",
       "/* Label box, darken color on hover, fitted */\n",
       "#sk-container-id-1 div.sk-label.fitted:hover label.sk-toggleable__label.fitted {\n",
       "  color: var(--sklearn-color-text);\n",
       "  background-color: var(--sklearn-color-fitted-level-2);\n",
       "}\n",
       "\n",
       "/* Estimator label */\n",
       "\n",
       "#sk-container-id-1 div.sk-label label {\n",
       "  font-family: monospace;\n",
       "  font-weight: bold;\n",
       "  display: inline-block;\n",
       "  line-height: 1.2em;\n",
       "}\n",
       "\n",
       "#sk-container-id-1 div.sk-label-container {\n",
       "  text-align: center;\n",
       "}\n",
       "\n",
       "/* Estimator-specific */\n",
       "#sk-container-id-1 div.sk-estimator {\n",
       "  font-family: monospace;\n",
       "  border: 1px dotted var(--sklearn-color-border-box);\n",
       "  border-radius: 0.25em;\n",
       "  box-sizing: border-box;\n",
       "  margin-bottom: 0.5em;\n",
       "  /* unfitted */\n",
       "  background-color: var(--sklearn-color-unfitted-level-0);\n",
       "}\n",
       "\n",
       "#sk-container-id-1 div.sk-estimator.fitted {\n",
       "  /* fitted */\n",
       "  background-color: var(--sklearn-color-fitted-level-0);\n",
       "}\n",
       "\n",
       "/* on hover */\n",
       "#sk-container-id-1 div.sk-estimator:hover {\n",
       "  /* unfitted */\n",
       "  background-color: var(--sklearn-color-unfitted-level-2);\n",
       "}\n",
       "\n",
       "#sk-container-id-1 div.sk-estimator.fitted:hover {\n",
       "  /* fitted */\n",
       "  background-color: var(--sklearn-color-fitted-level-2);\n",
       "}\n",
       "\n",
       "/* Specification for estimator info (e.g. \"i\" and \"?\") */\n",
       "\n",
       "/* Common style for \"i\" and \"?\" */\n",
       "\n",
       ".sk-estimator-doc-link,\n",
       "a:link.sk-estimator-doc-link,\n",
       "a:visited.sk-estimator-doc-link {\n",
       "  float: right;\n",
       "  font-size: smaller;\n",
       "  line-height: 1em;\n",
       "  font-family: monospace;\n",
       "  background-color: var(--sklearn-color-background);\n",
       "  border-radius: 1em;\n",
       "  height: 1em;\n",
       "  width: 1em;\n",
       "  text-decoration: none !important;\n",
       "  margin-left: 1ex;\n",
       "  /* unfitted */\n",
       "  border: var(--sklearn-color-unfitted-level-1) 1pt solid;\n",
       "  color: var(--sklearn-color-unfitted-level-1);\n",
       "}\n",
       "\n",
       ".sk-estimator-doc-link.fitted,\n",
       "a:link.sk-estimator-doc-link.fitted,\n",
       "a:visited.sk-estimator-doc-link.fitted {\n",
       "  /* fitted */\n",
       "  border: var(--sklearn-color-fitted-level-1) 1pt solid;\n",
       "  color: var(--sklearn-color-fitted-level-1);\n",
       "}\n",
       "\n",
       "/* On hover */\n",
       "div.sk-estimator:hover .sk-estimator-doc-link:hover,\n",
       ".sk-estimator-doc-link:hover,\n",
       "div.sk-label-container:hover .sk-estimator-doc-link:hover,\n",
       ".sk-estimator-doc-link:hover {\n",
       "  /* unfitted */\n",
       "  background-color: var(--sklearn-color-unfitted-level-3);\n",
       "  color: var(--sklearn-color-background);\n",
       "  text-decoration: none;\n",
       "}\n",
       "\n",
       "div.sk-estimator.fitted:hover .sk-estimator-doc-link.fitted:hover,\n",
       ".sk-estimator-doc-link.fitted:hover,\n",
       "div.sk-label-container:hover .sk-estimator-doc-link.fitted:hover,\n",
       ".sk-estimator-doc-link.fitted:hover {\n",
       "  /* fitted */\n",
       "  background-color: var(--sklearn-color-fitted-level-3);\n",
       "  color: var(--sklearn-color-background);\n",
       "  text-decoration: none;\n",
       "}\n",
       "\n",
       "/* Span, style for the box shown on hovering the info icon */\n",
       ".sk-estimator-doc-link span {\n",
       "  display: none;\n",
       "  z-index: 9999;\n",
       "  position: relative;\n",
       "  font-weight: normal;\n",
       "  right: .2ex;\n",
       "  padding: .5ex;\n",
       "  margin: .5ex;\n",
       "  width: min-content;\n",
       "  min-width: 20ex;\n",
       "  max-width: 50ex;\n",
       "  color: var(--sklearn-color-text);\n",
       "  box-shadow: 2pt 2pt 4pt #999;\n",
       "  /* unfitted */\n",
       "  background: var(--sklearn-color-unfitted-level-0);\n",
       "  border: .5pt solid var(--sklearn-color-unfitted-level-3);\n",
       "}\n",
       "\n",
       ".sk-estimator-doc-link.fitted span {\n",
       "  /* fitted */\n",
       "  background: var(--sklearn-color-fitted-level-0);\n",
       "  border: var(--sklearn-color-fitted-level-3);\n",
       "}\n",
       "\n",
       ".sk-estimator-doc-link:hover span {\n",
       "  display: block;\n",
       "}\n",
       "\n",
       "/* \"?\"-specific style due to the `<a>` HTML tag */\n",
       "\n",
       "#sk-container-id-1 a.estimator_doc_link {\n",
       "  float: right;\n",
       "  font-size: 1rem;\n",
       "  line-height: 1em;\n",
       "  font-family: monospace;\n",
       "  background-color: var(--sklearn-color-background);\n",
       "  border-radius: 1rem;\n",
       "  height: 1rem;\n",
       "  width: 1rem;\n",
       "  text-decoration: none;\n",
       "  /* unfitted */\n",
       "  color: var(--sklearn-color-unfitted-level-1);\n",
       "  border: var(--sklearn-color-unfitted-level-1) 1pt solid;\n",
       "}\n",
       "\n",
       "#sk-container-id-1 a.estimator_doc_link.fitted {\n",
       "  /* fitted */\n",
       "  border: var(--sklearn-color-fitted-level-1) 1pt solid;\n",
       "  color: var(--sklearn-color-fitted-level-1);\n",
       "}\n",
       "\n",
       "/* On hover */\n",
       "#sk-container-id-1 a.estimator_doc_link:hover {\n",
       "  /* unfitted */\n",
       "  background-color: var(--sklearn-color-unfitted-level-3);\n",
       "  color: var(--sklearn-color-background);\n",
       "  text-decoration: none;\n",
       "}\n",
       "\n",
       "#sk-container-id-1 a.estimator_doc_link.fitted:hover {\n",
       "  /* fitted */\n",
       "  background-color: var(--sklearn-color-fitted-level-3);\n",
       "}\n",
       "</style><div id=\"sk-container-id-1\" class=\"sk-top-container\"><div class=\"sk-text-repr-fallback\"><pre>GridSearchCV(cv=StratifiedKFold(n_splits=5, random_state=142, shuffle=True),\n",
       "             estimator=Pipeline(steps=[(&#x27;preprocessor&#x27;,\n",
       "                                        ColumnTransformer(remainder=&#x27;passthrough&#x27;,\n",
       "                                                          transformers=[(&#x27;ohe&#x27;,\n",
       "                                                                         Pipeline(steps=[(&#x27;ohe_enc&#x27;,\n",
       "                                                                                          OneHotEncoder(drop=&#x27;first&#x27;,\n",
       "                                                                                                        handle_unknown=&#x27;ignore&#x27;,\n",
       "                                                                                                        sparse_output=False))]),\n",
       "                                                                         [&#x27;country_group&#x27;,\n",
       "                                                                          &#x27;category_subs&#x27;,\n",
       "                                                                          &#x27;lifetime_cat&#x27;]),\n",
       "                                                                        (&#x27;ord&#x27;,\n",
       "                                                                         Pipeline(ste...\n",
       "                          &#x27;models__min_samples_leaf&#x27;: range(1, 3),\n",
       "                          &#x27;models__min_samples_split&#x27;: range(2, 4),\n",
       "                          &#x27;preprocessor__num&#x27;: [StandardScaler(),\n",
       "                                                &#x27;passthrough&#x27;]},\n",
       "                         {&#x27;models&#x27;: [&lt;catboost.core.CatBoostClassifier object at 0x7f8a25719150&gt;],\n",
       "                          &#x27;models__depth&#x27;: range(1, 8),\n",
       "                          &#x27;models__learning_rate&#x27;: [0.05, 0.1, 0.2],\n",
       "                          &#x27;models__n_estimators&#x27;: range(2, 30),\n",
       "                          &#x27;preprocessor__num&#x27;: [StandardScaler(),\n",
       "                                                &#x27;passthrough&#x27;]}],\n",
       "             scoring=&#x27;f1&#x27;)</pre><b>In a Jupyter environment, please rerun this cell to show the HTML representation or trust the notebook. <br />On GitHub, the HTML representation is unable to render, please try loading this page with nbviewer.org.</b></div><div class=\"sk-container\" hidden><div class=\"sk-item sk-dashed-wrapped\"><div class=\"sk-label-container\"><div class=\"sk-label fitted sk-toggleable\"><input class=\"sk-toggleable__control sk-hidden--visually\" id=\"sk-estimator-id-1\" type=\"checkbox\" ><label for=\"sk-estimator-id-1\" class=\"sk-toggleable__label fitted sk-toggleable__label-arrow fitted\">&nbsp;&nbsp;GridSearchCV<a class=\"sk-estimator-doc-link fitted\" rel=\"noreferrer\" target=\"_blank\" href=\"https://scikit-learn.org/1.5/modules/generated/sklearn.model_selection.GridSearchCV.html\">?<span>Documentation for GridSearchCV</span></a><span class=\"sk-estimator-doc-link fitted\">i<span>Fitted</span></span></label><div class=\"sk-toggleable__content fitted\"><pre>GridSearchCV(cv=StratifiedKFold(n_splits=5, random_state=142, shuffle=True),\n",
       "             estimator=Pipeline(steps=[(&#x27;preprocessor&#x27;,\n",
       "                                        ColumnTransformer(remainder=&#x27;passthrough&#x27;,\n",
       "                                                          transformers=[(&#x27;ohe&#x27;,\n",
       "                                                                         Pipeline(steps=[(&#x27;ohe_enc&#x27;,\n",
       "                                                                                          OneHotEncoder(drop=&#x27;first&#x27;,\n",
       "                                                                                                        handle_unknown=&#x27;ignore&#x27;,\n",
       "                                                                                                        sparse_output=False))]),\n",
       "                                                                         [&#x27;country_group&#x27;,\n",
       "                                                                          &#x27;category_subs&#x27;,\n",
       "                                                                          &#x27;lifetime_cat&#x27;]),\n",
       "                                                                        (&#x27;ord&#x27;,\n",
       "                                                                         Pipeline(ste...\n",
       "                          &#x27;models__min_samples_leaf&#x27;: range(1, 3),\n",
       "                          &#x27;models__min_samples_split&#x27;: range(2, 4),\n",
       "                          &#x27;preprocessor__num&#x27;: [StandardScaler(),\n",
       "                                                &#x27;passthrough&#x27;]},\n",
       "                         {&#x27;models&#x27;: [&lt;catboost.core.CatBoostClassifier object at 0x7f8a25719150&gt;],\n",
       "                          &#x27;models__depth&#x27;: range(1, 8),\n",
       "                          &#x27;models__learning_rate&#x27;: [0.05, 0.1, 0.2],\n",
       "                          &#x27;models__n_estimators&#x27;: range(2, 30),\n",
       "                          &#x27;preprocessor__num&#x27;: [StandardScaler(),\n",
       "                                                &#x27;passthrough&#x27;]}],\n",
       "             scoring=&#x27;f1&#x27;)</pre></div> </div></div><div class=\"sk-parallel\"><div class=\"sk-parallel-item\"><div class=\"sk-item\"><div class=\"sk-label-container\"><div class=\"sk-label fitted sk-toggleable\"><input class=\"sk-toggleable__control sk-hidden--visually\" id=\"sk-estimator-id-2\" type=\"checkbox\" ><label for=\"sk-estimator-id-2\" class=\"sk-toggleable__label fitted sk-toggleable__label-arrow fitted\">best_estimator_: Pipeline</label><div class=\"sk-toggleable__content fitted\"><pre>Pipeline(steps=[(&#x27;preprocessor&#x27;,\n",
       "                 ColumnTransformer(remainder=&#x27;passthrough&#x27;,\n",
       "                                   transformers=[(&#x27;ohe&#x27;,\n",
       "                                                  Pipeline(steps=[(&#x27;ohe_enc&#x27;,\n",
       "                                                                   OneHotEncoder(drop=&#x27;first&#x27;,\n",
       "                                                                                 handle_unknown=&#x27;ignore&#x27;,\n",
       "                                                                                 sparse_output=False))]),\n",
       "                                                  [&#x27;country_group&#x27;,\n",
       "                                                   &#x27;category_subs&#x27;,\n",
       "                                                   &#x27;lifetime_cat&#x27;]),\n",
       "                                                 (&#x27;ord&#x27;,\n",
       "                                                  Pipeline(steps=[(&#x27;simpleImputer_ordinal_before&#x27;,\n",
       "                                                                   SimpleImputer(strategy=&#x27;most_frequent&#x27;)),\n",
       "                                                                  (&#x27;ordin...\n",
       "                                                                   OrdinalEncoder(categories=[[&#x27;1&#x27;,\n",
       "                                                                                               &#x27;2&#x27;,\n",
       "                                                                                               &#x27;3&#x27;,\n",
       "                                                                                               &#x27;4&#x27;,\n",
       "                                                                                               &#x27;5&#x27;,\n",
       "                                                                                               &#x27;5+&#x27;]],\n",
       "                                                                                  handle_unknown=&#x27;use_encoded_value&#x27;,\n",
       "                                                                                  unknown_value=-1)),\n",
       "                                                                  (&#x27;simpleImputer_ordinal_after&#x27;,\n",
       "                                                                   SimpleImputer(strategy=&#x27;most_frequent&#x27;))]),\n",
       "                                                  [&#x27;funding_rounds_cat&#x27;]),\n",
       "                                                 (&#x27;num&#x27;, StandardScaler(),\n",
       "                                                  [&#x27;funding_total_usd_filled&#x27;,\n",
       "                                                   &#x27;lifetime&#x27;,\n",
       "                                                   &#x27;first_funding_year&#x27;])])),\n",
       "                (&#x27;models&#x27;,\n",
       "                 &lt;catboost.core.CatBoostClassifier object at 0x7f8a441fffa0&gt;)])</pre></div> </div></div><div class=\"sk-serial\"><div class=\"sk-item\"><div class=\"sk-serial\"><div class=\"sk-item sk-dashed-wrapped\"><div class=\"sk-label-container\"><div class=\"sk-label fitted sk-toggleable\"><input class=\"sk-toggleable__control sk-hidden--visually\" id=\"sk-estimator-id-3\" type=\"checkbox\" ><label for=\"sk-estimator-id-3\" class=\"sk-toggleable__label fitted sk-toggleable__label-arrow fitted\">&nbsp;preprocessor: ColumnTransformer<a class=\"sk-estimator-doc-link fitted\" rel=\"noreferrer\" target=\"_blank\" href=\"https://scikit-learn.org/1.5/modules/generated/sklearn.compose.ColumnTransformer.html\">?<span>Documentation for preprocessor: ColumnTransformer</span></a></label><div class=\"sk-toggleable__content fitted\"><pre>ColumnTransformer(remainder=&#x27;passthrough&#x27;,\n",
       "                  transformers=[(&#x27;ohe&#x27;,\n",
       "                                 Pipeline(steps=[(&#x27;ohe_enc&#x27;,\n",
       "                                                  OneHotEncoder(drop=&#x27;first&#x27;,\n",
       "                                                                handle_unknown=&#x27;ignore&#x27;,\n",
       "                                                                sparse_output=False))]),\n",
       "                                 [&#x27;country_group&#x27;, &#x27;category_subs&#x27;,\n",
       "                                  &#x27;lifetime_cat&#x27;]),\n",
       "                                (&#x27;ord&#x27;,\n",
       "                                 Pipeline(steps=[(&#x27;simpleImputer_ordinal_before&#x27;,\n",
       "                                                  SimpleImputer(strategy=&#x27;most_frequent&#x27;)),\n",
       "                                                 (&#x27;ordinal_enc&#x27;,\n",
       "                                                  OrdinalEncoder(categories=[[&#x27;1&#x27;,\n",
       "                                                                              &#x27;2&#x27;,\n",
       "                                                                              &#x27;3&#x27;,\n",
       "                                                                              &#x27;4&#x27;,\n",
       "                                                                              &#x27;5&#x27;,\n",
       "                                                                              &#x27;5+&#x27;]],\n",
       "                                                                 handle_unknown=&#x27;use_encoded_value&#x27;,\n",
       "                                                                 unknown_value=-1)),\n",
       "                                                 (&#x27;simpleImputer_ordinal_after&#x27;,\n",
       "                                                  SimpleImputer(strategy=&#x27;most_frequent&#x27;))]),\n",
       "                                 [&#x27;funding_rounds_cat&#x27;]),\n",
       "                                (&#x27;num&#x27;, StandardScaler(),\n",
       "                                 [&#x27;funding_total_usd_filled&#x27;, &#x27;lifetime&#x27;,\n",
       "                                  &#x27;first_funding_year&#x27;])])</pre></div> </div></div><div class=\"sk-parallel\"><div class=\"sk-parallel-item\"><div class=\"sk-item\"><div class=\"sk-label-container\"><div class=\"sk-label fitted sk-toggleable\"><input class=\"sk-toggleable__control sk-hidden--visually\" id=\"sk-estimator-id-4\" type=\"checkbox\" ><label for=\"sk-estimator-id-4\" class=\"sk-toggleable__label fitted sk-toggleable__label-arrow fitted\">ohe</label><div class=\"sk-toggleable__content fitted\"><pre>[&#x27;country_group&#x27;, &#x27;category_subs&#x27;, &#x27;lifetime_cat&#x27;]</pre></div> </div></div><div class=\"sk-serial\"><div class=\"sk-item\"><div class=\"sk-serial\"><div class=\"sk-item\"><div class=\"sk-estimator fitted sk-toggleable\"><input class=\"sk-toggleable__control sk-hidden--visually\" id=\"sk-estimator-id-5\" type=\"checkbox\" ><label for=\"sk-estimator-id-5\" class=\"sk-toggleable__label fitted sk-toggleable__label-arrow fitted\">&nbsp;OneHotEncoder<a class=\"sk-estimator-doc-link fitted\" rel=\"noreferrer\" target=\"_blank\" href=\"https://scikit-learn.org/1.5/modules/generated/sklearn.preprocessing.OneHotEncoder.html\">?<span>Documentation for OneHotEncoder</span></a></label><div class=\"sk-toggleable__content fitted\"><pre>OneHotEncoder(drop=&#x27;first&#x27;, handle_unknown=&#x27;ignore&#x27;, sparse_output=False)</pre></div> </div></div></div></div></div></div></div><div class=\"sk-parallel-item\"><div class=\"sk-item\"><div class=\"sk-label-container\"><div class=\"sk-label fitted sk-toggleable\"><input class=\"sk-toggleable__control sk-hidden--visually\" id=\"sk-estimator-id-6\" type=\"checkbox\" ><label for=\"sk-estimator-id-6\" class=\"sk-toggleable__label fitted sk-toggleable__label-arrow fitted\">ord</label><div class=\"sk-toggleable__content fitted\"><pre>[&#x27;funding_rounds_cat&#x27;]</pre></div> </div></div><div class=\"sk-serial\"><div class=\"sk-item\"><div class=\"sk-serial\"><div class=\"sk-item\"><div class=\"sk-estimator fitted sk-toggleable\"><input class=\"sk-toggleable__control sk-hidden--visually\" id=\"sk-estimator-id-7\" type=\"checkbox\" ><label for=\"sk-estimator-id-7\" class=\"sk-toggleable__label fitted sk-toggleable__label-arrow fitted\">&nbsp;SimpleImputer<a class=\"sk-estimator-doc-link fitted\" rel=\"noreferrer\" target=\"_blank\" href=\"https://scikit-learn.org/1.5/modules/generated/sklearn.impute.SimpleImputer.html\">?<span>Documentation for SimpleImputer</span></a></label><div class=\"sk-toggleable__content fitted\"><pre>SimpleImputer(strategy=&#x27;most_frequent&#x27;)</pre></div> </div></div><div class=\"sk-item\"><div class=\"sk-estimator fitted sk-toggleable\"><input class=\"sk-toggleable__control sk-hidden--visually\" id=\"sk-estimator-id-8\" type=\"checkbox\" ><label for=\"sk-estimator-id-8\" class=\"sk-toggleable__label fitted sk-toggleable__label-arrow fitted\">&nbsp;OrdinalEncoder<a class=\"sk-estimator-doc-link fitted\" rel=\"noreferrer\" target=\"_blank\" href=\"https://scikit-learn.org/1.5/modules/generated/sklearn.preprocessing.OrdinalEncoder.html\">?<span>Documentation for OrdinalEncoder</span></a></label><div class=\"sk-toggleable__content fitted\"><pre>OrdinalEncoder(categories=[[&#x27;1&#x27;, &#x27;2&#x27;, &#x27;3&#x27;, &#x27;4&#x27;, &#x27;5&#x27;, &#x27;5+&#x27;]],\n",
       "               handle_unknown=&#x27;use_encoded_value&#x27;, unknown_value=-1)</pre></div> </div></div><div class=\"sk-item\"><div class=\"sk-estimator fitted sk-toggleable\"><input class=\"sk-toggleable__control sk-hidden--visually\" id=\"sk-estimator-id-9\" type=\"checkbox\" ><label for=\"sk-estimator-id-9\" class=\"sk-toggleable__label fitted sk-toggleable__label-arrow fitted\">&nbsp;SimpleImputer<a class=\"sk-estimator-doc-link fitted\" rel=\"noreferrer\" target=\"_blank\" href=\"https://scikit-learn.org/1.5/modules/generated/sklearn.impute.SimpleImputer.html\">?<span>Documentation for SimpleImputer</span></a></label><div class=\"sk-toggleable__content fitted\"><pre>SimpleImputer(strategy=&#x27;most_frequent&#x27;)</pre></div> </div></div></div></div></div></div></div><div class=\"sk-parallel-item\"><div class=\"sk-item\"><div class=\"sk-label-container\"><div class=\"sk-label fitted sk-toggleable\"><input class=\"sk-toggleable__control sk-hidden--visually\" id=\"sk-estimator-id-10\" type=\"checkbox\" ><label for=\"sk-estimator-id-10\" class=\"sk-toggleable__label fitted sk-toggleable__label-arrow fitted\">num</label><div class=\"sk-toggleable__content fitted\"><pre>[&#x27;funding_total_usd_filled&#x27;, &#x27;lifetime&#x27;, &#x27;first_funding_year&#x27;]</pre></div> </div></div><div class=\"sk-serial\"><div class=\"sk-item\"><div class=\"sk-estimator fitted sk-toggleable\"><input class=\"sk-toggleable__control sk-hidden--visually\" id=\"sk-estimator-id-11\" type=\"checkbox\" ><label for=\"sk-estimator-id-11\" class=\"sk-toggleable__label fitted sk-toggleable__label-arrow fitted\">&nbsp;StandardScaler<a class=\"sk-estimator-doc-link fitted\" rel=\"noreferrer\" target=\"_blank\" href=\"https://scikit-learn.org/1.5/modules/generated/sklearn.preprocessing.StandardScaler.html\">?<span>Documentation for StandardScaler</span></a></label><div class=\"sk-toggleable__content fitted\"><pre>StandardScaler()</pre></div> </div></div></div></div></div><div class=\"sk-parallel-item\"><div class=\"sk-item\"><div class=\"sk-label-container\"><div class=\"sk-label fitted sk-toggleable\"><input class=\"sk-toggleable__control sk-hidden--visually\" id=\"sk-estimator-id-12\" type=\"checkbox\" ><label for=\"sk-estimator-id-12\" class=\"sk-toggleable__label fitted sk-toggleable__label-arrow fitted\">remainder</label><div class=\"sk-toggleable__content fitted\"><pre>[]</pre></div> </div></div><div class=\"sk-serial\"><div class=\"sk-item\"><div class=\"sk-estimator fitted sk-toggleable\"><input class=\"sk-toggleable__control sk-hidden--visually\" id=\"sk-estimator-id-13\" type=\"checkbox\" ><label for=\"sk-estimator-id-13\" class=\"sk-toggleable__label fitted sk-toggleable__label-arrow fitted\">passthrough</label><div class=\"sk-toggleable__content fitted\"><pre>passthrough</pre></div> </div></div></div></div></div></div></div><div class=\"sk-item\"><div class=\"sk-estimator fitted sk-toggleable\"><input class=\"sk-toggleable__control sk-hidden--visually\" id=\"sk-estimator-id-14\" type=\"checkbox\" ><label for=\"sk-estimator-id-14\" class=\"sk-toggleable__label fitted sk-toggleable__label-arrow fitted\">CatBoostClassifier</label><div class=\"sk-toggleable__content fitted\"><pre>&lt;catboost.core.CatBoostClassifier object at 0x7f8a441fffa0&gt;</pre></div> </div></div></div></div></div></div></div></div></div></div></div>"
      ],
      "text/plain": [
       "GridSearchCV(cv=StratifiedKFold(n_splits=5, random_state=142, shuffle=True),\n",
       "             estimator=Pipeline(steps=[('preprocessor',\n",
       "                                        ColumnTransformer(remainder='passthrough',\n",
       "                                                          transformers=[('ohe',\n",
       "                                                                         Pipeline(steps=[('ohe_enc',\n",
       "                                                                                          OneHotEncoder(drop='first',\n",
       "                                                                                                        handle_unknown='ignore',\n",
       "                                                                                                        sparse_output=False))]),\n",
       "                                                                         ['country_group',\n",
       "                                                                          'category_subs',\n",
       "                                                                          'lifetime_cat']),\n",
       "                                                                        ('ord',\n",
       "                                                                         Pipeline(ste...\n",
       "                          'models__min_samples_leaf': range(1, 3),\n",
       "                          'models__min_samples_split': range(2, 4),\n",
       "                          'preprocessor__num': [StandardScaler(),\n",
       "                                                'passthrough']},\n",
       "                         {'models': [<catboost.core.CatBoostClassifier object at 0x7f8a25719150>],\n",
       "                          'models__depth': range(1, 8),\n",
       "                          'models__learning_rate': [0.05, 0.1, 0.2],\n",
       "                          'models__n_estimators': range(2, 30),\n",
       "                          'preprocessor__num': [StandardScaler(),\n",
       "                                                'passthrough']}],\n",
       "             scoring='f1')"
      ]
     },
     "execution_count": 57,
     "metadata": {},
     "output_type": "execute_result"
    }
   ],
   "source": [
    "%%time\n",
    "\n",
    "RANDOM_STATE = 142\n",
    "\n",
    "X_train = train_dataset.drop(['name','status'],axis=1)\n",
    "y_train = train_dataset['status']\n",
    "\n",
    "# Закодируем целевую переменную\n",
    "lbl_encoder = LabelEncoder()\n",
    "y_train = lbl_encoder.fit_transform(y_train) # 1 = operating\n",
    "\n",
    "# Зададим отдельынй вид кросс-валидации\n",
    "cv = StratifiedKFold(n_splits=5, shuffle=True, random_state=RANDOM_STATE)\n",
    "\n",
    "grid_search = GridSearchCV(\n",
    "    pipe_final, \n",
    "    param_grid=param_distributions, \n",
    "    scoring = 'f1' ,\n",
    "    cv = cv, \n",
    "    n_jobs=-1\n",
    ")\n",
    "\n",
    "grid_search.fit(X_train, y_train)"
   ]
  },
  {
   "cell_type": "code",
   "execution_count": 58,
   "metadata": {
    "execution": {
     "iopub.execute_input": "2024-07-14T17:09:58.974257Z",
     "iopub.status.busy": "2024-07-14T17:09:58.973927Z",
     "iopub.status.idle": "2024-07-14T17:09:58.979165Z",
     "shell.execute_reply": "2024-07-14T17:09:58.978616Z",
     "shell.execute_reply.started": "2024-07-14T17:09:58.974240Z"
    }
   },
   "outputs": [
    {
     "data": {
      "text/plain": [
       "0.9870488144036823"
      ]
     },
     "execution_count": 58,
     "metadata": {},
     "output_type": "execute_result"
    }
   ],
   "source": [
    "grid_search.best_score_"
   ]
  },
  {
   "cell_type": "code",
   "execution_count": 59,
   "metadata": {
    "execution": {
     "iopub.execute_input": "2024-07-14T17:09:58.980376Z",
     "iopub.status.busy": "2024-07-14T17:09:58.980004Z",
     "iopub.status.idle": "2024-07-14T17:09:59.175283Z",
     "shell.execute_reply": "2024-07-14T17:09:59.174716Z",
     "shell.execute_reply.started": "2024-07-14T17:09:58.980358Z"
    }
   },
   "outputs": [
    {
     "data": {
      "text/plain": [
       "{'models': <catboost.core.CatBoostClassifier at 0x7f8a25719150>,\n",
       " 'models__depth': 7,\n",
       " 'models__learning_rate': 0.2,\n",
       " 'models__n_estimators': 29,\n",
       " 'preprocessor__num': StandardScaler()}"
      ]
     },
     "execution_count": 59,
     "metadata": {},
     "output_type": "execute_result"
    }
   ],
   "source": [
    "grid_search.best_params_"
   ]
  },
  {
   "cell_type": "markdown",
   "metadata": {},
   "source": [
    "Построим предсказания об успешности стартапов на основе обученной модели."
   ]
  },
  {
   "cell_type": "code",
   "execution_count": 60,
   "metadata": {
    "execution": {
     "iopub.execute_input": "2024-07-14T17:09:59.176228Z",
     "iopub.status.busy": "2024-07-14T17:09:59.176045Z",
     "iopub.status.idle": "2024-07-14T17:09:59.338754Z",
     "shell.execute_reply": "2024-07-14T17:09:59.338106Z",
     "shell.execute_reply.started": "2024-07-14T17:09:59.176214Z"
    }
   },
   "outputs": [],
   "source": [
    "output = pd.DataFrame(test_dataset['name'])"
   ]
  },
  {
   "cell_type": "code",
   "execution_count": 61,
   "metadata": {
    "execution": {
     "iopub.execute_input": "2024-07-14T17:09:59.339865Z",
     "iopub.status.busy": "2024-07-14T17:09:59.339581Z",
     "iopub.status.idle": "2024-07-14T17:09:59.519188Z",
     "shell.execute_reply": "2024-07-14T17:09:59.518545Z",
     "shell.execute_reply.started": "2024-07-14T17:09:59.339848Z"
    }
   },
   "outputs": [],
   "source": [
    "test_dataset = test_dataset[['category_subs', 'country_group', 'funding_total_usd_filled','lifetime_cat',\n",
    "       'funding_rounds_cat', 'lifetime','first_funding_year']]"
   ]
  },
  {
   "cell_type": "code",
   "execution_count": 62,
   "metadata": {
    "execution": {
     "iopub.execute_input": "2024-07-14T17:09:59.520194Z",
     "iopub.status.busy": "2024-07-14T17:09:59.520006Z",
     "iopub.status.idle": "2024-07-14T17:09:59.687244Z",
     "shell.execute_reply": "2024-07-14T17:09:59.686625Z",
     "shell.execute_reply.started": "2024-07-14T17:09:59.520179Z"
    }
   },
   "outputs": [
    {
     "data": {
      "text/html": [
       "<div>\n",
       "<style scoped>\n",
       "    .dataframe tbody tr th:only-of-type {\n",
       "        vertical-align: middle;\n",
       "    }\n",
       "\n",
       "    .dataframe tbody tr th {\n",
       "        vertical-align: top;\n",
       "    }\n",
       "\n",
       "    .dataframe thead th {\n",
       "        text-align: right;\n",
       "    }\n",
       "</style>\n",
       "<table border=\"1\" class=\"dataframe\">\n",
       "  <thead>\n",
       "    <tr style=\"text-align: right;\">\n",
       "      <th></th>\n",
       "      <th>category_subs</th>\n",
       "      <th>country_group</th>\n",
       "      <th>funding_total_usd_filled</th>\n",
       "      <th>lifetime_cat</th>\n",
       "      <th>funding_rounds_cat</th>\n",
       "      <th>lifetime</th>\n",
       "      <th>first_funding_year</th>\n",
       "    </tr>\n",
       "  </thead>\n",
       "  <tbody>\n",
       "    <tr>\n",
       "      <th>0</th>\n",
       "      <td>Technology</td>\n",
       "      <td>Other</td>\n",
       "      <td>2819200.0</td>\n",
       "      <td>&gt;3Y+</td>\n",
       "      <td>1</td>\n",
       "      <td>3501</td>\n",
       "      <td>2009</td>\n",
       "    </tr>\n",
       "    <tr>\n",
       "      <th>1</th>\n",
       "      <td>Services</td>\n",
       "      <td>USA-other</td>\n",
       "      <td>1985100.0</td>\n",
       "      <td>&gt;3Y+</td>\n",
       "      <td>1</td>\n",
       "      <td>2717</td>\n",
       "      <td>2010</td>\n",
       "    </tr>\n",
       "    <tr>\n",
       "      <th>2</th>\n",
       "      <td>Services</td>\n",
       "      <td>Other_Europe</td>\n",
       "      <td>428257.0</td>\n",
       "      <td>&gt;3Y+</td>\n",
       "      <td>2</td>\n",
       "      <td>1295</td>\n",
       "      <td>2014</td>\n",
       "    </tr>\n",
       "    <tr>\n",
       "      <th>3</th>\n",
       "      <td>Software</td>\n",
       "      <td>USA-CA</td>\n",
       "      <td>34700000.0</td>\n",
       "      <td>&gt;3Y+</td>\n",
       "      <td>4</td>\n",
       "      <td>4748</td>\n",
       "      <td>2005</td>\n",
       "    </tr>\n",
       "    <tr>\n",
       "      <th>4</th>\n",
       "      <td>Software</td>\n",
       "      <td>Non_US_G7</td>\n",
       "      <td>4530000.0</td>\n",
       "      <td>&gt;3Y+</td>\n",
       "      <td>1</td>\n",
       "      <td>6209</td>\n",
       "      <td>2007</td>\n",
       "    </tr>\n",
       "  </tbody>\n",
       "</table>\n",
       "</div>"
      ],
      "text/plain": [
       "  category_subs country_group  funding_total_usd_filled lifetime_cat  \\\n",
       "0    Technology         Other                 2819200.0         >3Y+   \n",
       "1      Services     USA-other                 1985100.0         >3Y+   \n",
       "2      Services  Other_Europe                  428257.0         >3Y+   \n",
       "3      Software        USA-CA                34700000.0         >3Y+   \n",
       "4      Software     Non_US_G7                 4530000.0         >3Y+   \n",
       "\n",
       "  funding_rounds_cat  lifetime  first_funding_year  \n",
       "0                  1      3501                2009  \n",
       "1                  1      2717                2010  \n",
       "2                  2      1295                2014  \n",
       "3                  4      4748                2005  \n",
       "4                  1      6209                2007  "
      ]
     },
     "execution_count": 62,
     "metadata": {},
     "output_type": "execute_result"
    }
   ],
   "source": [
    "test_dataset.head()"
   ]
  },
  {
   "cell_type": "code",
   "execution_count": 63,
   "metadata": {
    "execution": {
     "iopub.execute_input": "2024-07-14T17:09:59.688152Z",
     "iopub.status.busy": "2024-07-14T17:09:59.687984Z",
     "iopub.status.idle": "2024-07-14T17:09:59.927402Z",
     "shell.execute_reply": "2024-07-14T17:09:59.926753Z",
     "shell.execute_reply.started": "2024-07-14T17:09:59.688139Z"
    }
   },
   "outputs": [],
   "source": [
    "prob_operating = grid_search.predict_proba(test_dataset)[:,1]"
   ]
  },
  {
   "cell_type": "code",
   "execution_count": 64,
   "metadata": {
    "execution": {
     "iopub.execute_input": "2024-07-14T17:09:59.928516Z",
     "iopub.status.busy": "2024-07-14T17:09:59.928322Z",
     "iopub.status.idle": "2024-07-14T17:10:00.222174Z",
     "shell.execute_reply": "2024-07-14T17:10:00.221587Z",
     "shell.execute_reply.started": "2024-07-14T17:09:59.928500Z"
    }
   },
   "outputs": [
    {
     "data": {
      "text/plain": [
       "<matplotlib.lines.Line2D at 0x7f8a25e1ba00>"
      ]
     },
     "execution_count": 64,
     "metadata": {},
     "output_type": "execute_result"
    },
    {
     "data": {
      "image/png": "[encoded data removed]",
      "text/plain": [
       "<Figure size 640x480 with 1 Axes>"
      ]
     },
     "metadata": {},
     "output_type": "display_data"
    }
   ],
   "source": [
    "pd.Series(prob_operating).hist(bins = 100)\n",
    "\n",
    "plt.axvline(0.6, color = 'red')"
   ]
  },
  {
   "cell_type": "markdown",
   "metadata": {},
   "source": [
    "На основе экспериментов с валидационной выборкой (test на kaggle) был подобран оптимальный порог вероятности классификации = 0.6."
   ]
  },
  {
   "cell_type": "code",
   "execution_count": 65,
   "metadata": {
    "execution": {
     "iopub.execute_input": "2024-07-14T17:10:00.223301Z",
     "iopub.status.busy": "2024-07-14T17:10:00.223010Z",
     "iopub.status.idle": "2024-07-14T17:10:00.226712Z",
     "shell.execute_reply": "2024-07-14T17:10:00.226152Z",
     "shell.execute_reply.started": "2024-07-14T17:10:00.223283Z"
    }
   },
   "outputs": [
    {
     "name": "stdout",
     "output_type": "stream",
     "text": [
      "12018\n"
     ]
    }
   ],
   "source": [
    "threshold = 0.6\n",
    "print(len(prob_operating[prob_operating>=threshold]))"
   ]
  },
  {
   "cell_type": "code",
   "execution_count": 66,
   "metadata": {
    "execution": {
     "iopub.execute_input": "2024-07-14T17:10:00.227673Z",
     "iopub.status.busy": "2024-07-14T17:10:00.227487Z",
     "iopub.status.idle": "2024-07-14T17:10:00.584443Z",
     "shell.execute_reply": "2024-07-14T17:10:00.583835Z",
     "shell.execute_reply.started": "2024-07-14T17:10:00.227657Z"
    }
   },
   "outputs": [
    {
     "name": "stdout",
     "output_type": "stream",
     "text": [
      "12018\n"
     ]
    },
    {
     "data": {
      "text/html": [
       "<div>\n",
       "<style scoped>\n",
       "    .dataframe tbody tr th:only-of-type {\n",
       "        vertical-align: middle;\n",
       "    }\n",
       "\n",
       "    .dataframe tbody tr th {\n",
       "        vertical-align: top;\n",
       "    }\n",
       "\n",
       "    .dataframe thead th {\n",
       "        text-align: right;\n",
       "    }\n",
       "</style>\n",
       "<table border=\"1\" class=\"dataframe\">\n",
       "  <thead>\n",
       "    <tr style=\"text-align: right;\">\n",
       "      <th></th>\n",
       "      <th>name</th>\n",
       "      <th>oper_proba</th>\n",
       "      <th>status</th>\n",
       "    </tr>\n",
       "  </thead>\n",
       "  <tbody>\n",
       "    <tr>\n",
       "      <th>0</th>\n",
       "      <td>Crystalsol</td>\n",
       "      <td>0.980799</td>\n",
       "      <td>operating</td>\n",
       "    </tr>\n",
       "    <tr>\n",
       "      <th>1</th>\n",
       "      <td>JBI Fish &amp; Wings</td>\n",
       "      <td>0.971148</td>\n",
       "      <td>operating</td>\n",
       "    </tr>\n",
       "    <tr>\n",
       "      <th>2</th>\n",
       "      <td>COINPLUS</td>\n",
       "      <td>0.959408</td>\n",
       "      <td>operating</td>\n",
       "    </tr>\n",
       "    <tr>\n",
       "      <th>3</th>\n",
       "      <td>Imagine Communications</td>\n",
       "      <td>0.974937</td>\n",
       "      <td>operating</td>\n",
       "    </tr>\n",
       "    <tr>\n",
       "      <th>4</th>\n",
       "      <td>DNA13</td>\n",
       "      <td>0.980178</td>\n",
       "      <td>operating</td>\n",
       "    </tr>\n",
       "  </tbody>\n",
       "</table>\n",
       "</div>"
      ],
      "text/plain": [
       "                     name  oper_proba     status\n",
       "0              Crystalsol    0.980799  operating\n",
       "1        JBI Fish & Wings    0.971148  operating\n",
       "2                COINPLUS    0.959408  operating\n",
       "3  Imagine Communications    0.974937  operating\n",
       "4                   DNA13    0.980178  operating"
      ]
     },
     "execution_count": 66,
     "metadata": {},
     "output_type": "execute_result"
    }
   ],
   "source": [
    "threshold = 0.6\n",
    "print(len(prob_operating[prob_operating>=threshold]))\n",
    "output['oper_proba'] = prob_operating\n",
    "output['status'] = np.where(output['oper_proba']>=threshold, 'operating','closed')\n",
    "output.head()"
   ]
  },
  {
   "cell_type": "code",
   "execution_count": 67,
   "metadata": {
    "execution": {
     "iopub.execute_input": "2024-07-14T17:10:00.585566Z",
     "iopub.status.busy": "2024-07-14T17:10:00.585291Z",
     "iopub.status.idle": "2024-07-14T17:10:00.790906Z",
     "shell.execute_reply": "2024-07-14T17:10:00.790031Z",
     "shell.execute_reply.started": "2024-07-14T17:10:00.585550Z"
    }
   },
   "outputs": [],
   "source": [
    "output[['name','status']].to_csv('output_fin.csv',index = False)"
   ]
  },
  {
   "cell_type": "markdown",
   "metadata": {},
   "source": [
    "## Анализ важности признаков модели"
   ]
  },
  {
   "cell_type": "markdown",
   "metadata": {},
   "source": [
    "Построим график важности признаков в оптимальной модели."
   ]
  },
  {
   "cell_type": "code",
   "execution_count": 68,
   "metadata": {
    "execution": {
     "iopub.execute_input": "2024-07-14T17:10:00.791975Z",
     "iopub.status.busy": "2024-07-14T17:10:00.791786Z",
     "iopub.status.idle": "2024-07-14T17:10:01.205515Z",
     "shell.execute_reply": "2024-07-14T17:10:01.204934Z",
     "shell.execute_reply.started": "2024-07-14T17:10:00.791960Z"
    }
   },
   "outputs": [
    {
     "data": {
      "image/png": "[encoded data removed]",
      "text/plain": [
       "<Figure size 1000x800 with 1 Axes>"
      ]
     },
     "metadata": {},
     "output_type": "display_data"
    }
   ],
   "source": [
    "cat_iris_imp = pd.Series(grid_search.best_estimator_['models'].get_feature_importance(),\n",
    "                        grid_search.best_estimator_['preprocessor'].get_feature_names_out())\n",
    "fig, ax = plt.subplots(figsize=(10,8))\n",
    "cat_iris_imp.plot.bar(ax=ax)\n",
    "ax.set_title(\"Важность признаков\")\n",
    "ax.set_ylabel('Важность, %')\n",
    "fig.tight_layout()"
   ]
  },
  {
   "cell_type": "markdown",
   "metadata": {},
   "source": [
    "наиболее значимыми оказались first_funding_year, ifetime. На втором плане переменные финансовые funding_total_usd_filled и funding_rounds_cat. \n",
    "Хотя в целом переменные Country_group и Category_subs, закодированные OneHotEncoder, не оказывают очень большого влияние, для некоторых категорий влияние ощутимо."
   ]
  },
  {
   "cell_type": "markdown",
   "metadata": {},
   "source": [
    "## Отчет об исследовании"
   ]
  },
  {
   "cell_type": "markdown",
   "metadata": {},
   "source": [
    "В данном проекте мы использовлаи тренировочный датасет, состоящий из ~52 тысяч наблюдений, для построения модели машинного обучения.\n",
    "Эта модель должна определять, закроется ли стартап или нет.\n",
    "\n",
    "В первую очередь мы провели предвариетльную обработку и подготовку данных, в рамках которой:\n",
    "1) Были приведены в порядок форматы данных\n",
    "2) Было проверено наличие явных дубликатов\n",
    "3) Был проведен первичный корреляционный анализ, который продемонстрировал, что все 4 переменные, описывающие локацию, крайне сильно взаимосвязаны, в связи с чем в дальнейшем мы оставили только одну переменную для избежания мультиколлинеарности.\n",
    "4) Была проведена обработка и удаление неявных дубликатов в признаке, описывающим отрасль стартапа. На входе мы получили нестандартизованные списки разрозненных категорий. Для каждого стартапа была отобрана категория из перечня, которая встречается чаще всего. После проведения этой операции у нас все еще оставалось более 500 уникальных категорий. На этом этапе категории были укрупнены до 10 широких категорий на основе их логической схожести по смыслу. Пропущенные значения были заполнены категорией other.\n",
    "6) Была проведена обработка переменной country code. В переменной насчитывалось порядка 200 уникальных значений. Мы укрупнили данные категории - перешли от стран к группам стран. Помимо этого, так как на США приходится более 60% датасета, для этой страны мы доволнительно выделили самый крупный город и самый крупный штат, чтобы итоговые группы получились сопоставими по размеру. Пропущенные значения были заполнены категорией other.\n",
    "7) Переменная funding_total_usd пимерно на 20% состояла из пропусков. Так как эта доля слишком велика, мы исключили эти наблюдения, чтобы не создавать дополнительного шума в модели засчет приблизительного заполнения пропусков. Для заполнения пропусков в тестовой выборке мы использовали медианные значения funding_total_usd для соответствущих country_group и category из обучающей выборки.\n",
    "8) Переменная funding_rounds была преобразована в категориальную с категориями от 1 до 5, а также категорией 5+\n",
    "9) Переменная лайфтайм была разделена на категории до 3 лет и больше 3 лет, так как исследовательский анализ показал, что большинство закрывшихся стартапов сокнцентрированно в области до 3х лет.\n",
    "\n",
    "В результате phik корреляция переменных с целевой status значительно выросла. На вход в модель были переданы следующие признаки (c указанием кодировки):\n",
    "* Country_group - ctaegorical -  ohe encoded\n",
    "* Category_subs - ctaegorical -  ohe encoded\n",
    "* lifitime_cat - ctaegorical -  ohe encoded\n",
    "* funding_rounds_cat - ctaegorical -  ordinal encoded\n",
    "* funding_total_usd_filled - numeric - StandardScaler\n",
    "* ifetime - numeric - StandardScaler\n",
    "* first_funding_year - numeric - StandardScaler\n",
    "\n",
    "Для поиска оптимальной модели использовался grid search по широкому набору моделей и их гипрепараметров. Из моделей были включены LogisticRegression, DecisionTreeClassifier и CatBoostClassifier.\n",
    "\n",
    "Для борьбы с оверфитингом мы использовали stratified кросс-валидацию (с сохранением постоянных пропорций таргет переменной в выборке).\n",
    "Для борьбы с несбалансированностью классов в целевой переменной при подборе гиперпарамтеров моделей анализировался также параметр class_weight = 'balanced'.\n",
    "\n",
    "В результате, оптимальной оказалась модель CatBoostClassifier на основе 29 деревьев с глубиной  7, лернинг рейт 0.2.\n",
    "Модель демонстрирует высокое значение метрики f1-score 0.987 по итогу кросс-валидации.\n",
    "C точки зрения важности признаков, наиболее значимыми оказались first_funding_year, ifetime. На втором плане переменные финансовые funding_total_usd_filled и funding_rounds_cat. Остальные переменные оказывают слабое влияние, периодически для некоторых стран/категорий наблюдается повышенная важность, но в целом они не так важны как указанные 4 переменные.\n",
    "\n",
    "\n",
    "При проверке на 50% валидационной выборки значение метрики также оказалось на высоком уровне - 0.865.\n"
   ]
  }
 ],
 "metadata": {
  "kaggle": {
   "accelerator": "none",
   "dataSources": [
    {
     "datasetId": 5349147,
     "sourceId": 8896284,
     "sourceType": "datasetVersion"
    }
   ],
   "dockerImageVersionId": 30732,
   "isGpuEnabled": false,
   "isInternetEnabled": true,
   "language": "python",
   "sourceType": "notebook"
  },
  "kernelspec": {
   "display_name": "Python 3 (ipykernel)",
   "language": "python",
   "name": "python3"
  },
  "language_info": {
   "codemirror_mode": {
    "name": "ipython",
    "version": 3
   },
   "file_extension": ".py",
   "mimetype": "text/x-python",
   "name": "python",
   "nbconvert_exporter": "python",
   "pygments_lexer": "ipython3",
   "version": "3.10.12"
  }
 },
 "nbformat": 4,
 "nbformat_minor": 4
}
